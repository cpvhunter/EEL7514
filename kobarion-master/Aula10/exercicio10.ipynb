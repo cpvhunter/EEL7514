{
 "cells": [
  {
   "cell_type": "markdown",
   "metadata": {},
   "source": [
    "Universidade Federal de Santa Catarina<br>\n",
    "Departamento de Engenharia Elétrica e Eletrônica<br>\n",
    "EEL7514/EEL7513 - Introdução ao Aprendizado de Máquina\n",
    "$\\newcommand{\\bX}{\\mathbf{X}}$\n",
    "$\\newcommand{\\bw}{\\mathbf{w}}$\n",
    "$\\newcommand{\\by}{\\mathbf{y}}$\n",
    "$\\newcommand{\\bx}{\\mathbf{x}}$\n",
    "$\\newcommand{\\bU}{\\mathbf{U}}$\n",
    "$\\newcommand{\\bu}{\\mathbf{u}}$\n",
    "$\\newcommand{\\bT}{\\mathbf{T}}$\n",
    "$\\newcommand{\\RR}{\\mathbb{R}}$\n",
    "$\\newcommand{\\calS}{\\mathcal{S}}$\n",
    "\n",
    "\n",
    "# Exercício 10: Redes Convolucionais\n",
    "\n"
   ]
  },
  {
   "cell_type": "markdown",
   "metadata": {},
   "source": [
    "- Usando Keras/TensorFlow, treine uma rede convolucional nas bases MNIST e CIFAR-10. Tente conseguir uma acurácia de 99% no MNIST e 80% no CIFAR-10. Referências: [Tutorial 1](http://adventuresinmachinelearning.com/keras-tutorial-cnn-11-lines/) e [Tutorial 2](https://www.learnopencv.com/image-classification-using-convolutional-neural-networks-in-keras/).\n",
    "- Visualize o que cada camada da rede \"aprendeu\"; mais precisamente, mostre exemplos de imagens de entrada que maximizam a ativação dos filtros em cada camada. Referência: [Tutorial 3](https://blog.keras.io/how-convolutional-neural-networks-see-the-world.html).\n",
    "\n",
    "### Dicas de implementação\n",
    "- Para reduzir o tempo de treinamento de uma rede convolucional, é muito importante fazer uso de uma GPU (Graphical Processing Unit), a qual é capaz de produzir um ganho de eficiência de cerca 10 a 20 vezes em comparação com o processamento em CPU. Caso não disponha de placa apropriada, você pode utilizar a plataforma Colab do Google: http://colab.research.google.com. Certifique-se de selecionar a opção GPU no menu Runtime."
   ]
  }
 ],
 "metadata": {
  "kernelspec": {
   "display_name": "Python 3",
   "language": "python",
   "name": "python3"
  },
  "language_info": {
   "codemirror_mode": {
    "name": "ipython",
    "version": 3
   },
   "file_extension": ".py",
   "mimetype": "text/x-python",
   "name": "python",
   "nbconvert_exporter": "python",
   "pygments_lexer": "ipython3",
   "version": "3.6.1"
  }
 },
 "nbformat": 4,
 "nbformat_minor": 2
}
