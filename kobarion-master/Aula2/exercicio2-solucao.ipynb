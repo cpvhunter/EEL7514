{
 "cells": [
  {
   "cell_type": "markdown",
   "metadata": {},
   "source": [
    "Universidade Federal de Santa Catarina<br>\n",
    "Departamento de Engenharia Elétrica e Eletrônica<br>\n",
    "EEL7514/EEL7513 - Introdução ao Aprendizado de Máquina\n",
    "\n",
    "**Aluno:** Rodrigo Kobashikawa Rosa<br>\n",
    "**Matrícula:** 14201073\n",
    "$\\newcommand{\\bX}{\\mathbf{X}}$\n",
    "$\\newcommand{\\bw}{\\mathbf{w}}$\n",
    "$\\newcommand{\\by}{\\mathbf{y}}$\n",
    "$\\newcommand{\\bx}{\\mathbf{x}}$\n",
    "$\\newcommand{\\RR}{\\mathbb{R}}$\n",
    "\n",
    "# Exercício 2: Regressão Linear\n",
    "\n",
    "Neste exercício você irá treinar um modelo de regressão linear, usando tanto a equação normal quanto o método do gradiente, e o usará para fazer predições sobre um conjunto de teste. Além disso, você investigará a adição de novos atributos e a necessidade de regularização."
   ]
  },
  {
   "cell_type": "markdown",
   "metadata": {},
   "source": [
    "# Obtendo o conjunto de dados\n",
    "\n",
    "Para facilitar, usaremos neste exercício um conjunto de dados sintético, com um único atributo, $x_1 \\in \\RR$, listado na primeira coluna de uma matriz, e um valor-alvo, $y \\in \\RR$, listado na segunda coluna. (Caso deseje um exemplo mais concreto, você pode imaginar que o conjunto de dados fornece o número médio de descendentes de um organismo desconhecido em função da proporção de tempo de exposição à luz solar ao longo de sua existência.)"
   ]
  },
  {
   "cell_type": "code",
   "execution_count": 1,
   "metadata": {},
   "outputs": [],
   "source": [
    "import numpy as np\n",
    "import matplotlib.pyplot as plt\n",
    "%matplotlib inline\n",
    "\n",
    "def generateDataset(n_samples=400, x_scale=[0,1], noise=0.1):\n",
    "    np.random.seed(0)\n",
    "    x = np.random.permutation(np.linspace(x_scale[0],x_scale[1],n_samples))\n",
    "    t = (x-x.min())/(x.max()-x.min())\n",
    "    y = 2 + np.abs(np.sin(1.5*np.pi*t)*np.log(1+2*t)/np.log(3)) + noise*np.random.randn(n_samples)\n",
    "    data = np.c_[x,y]\n",
    "    return data"
   ]
  },
  {
   "cell_type": "code",
   "execution_count": 2,
   "metadata": {},
   "outputs": [
    {
     "data": {
      "image/png": "[encoded data removed]",
      "text/plain": [
       "<Figure size 432x288 with 1 Axes>"
      ]
     },
     "metadata": {},
     "output_type": "display_data"
    }
   ],
   "source": [
    "data = generateDataset()\n",
    "plt.plot(data[:,0],data[:,1],'bo'); plt.xlabel('x1'); plt.ylabel('y');"
   ]
  },
  {
   "cell_type": "markdown",
   "metadata": {},
   "source": [
    "O conjunto de dados possui 400 amostras. Utilize as 300 primeiras amostras como conjunto de treinamento e as 100 últimas como conjunto de teste. Para evitar confusão, é recomendável nomear suas variáveis apropriadamente, por exemplo:\n",
    "- Variável com sufixo `_train` para o conjunto de treinamento. Ex: `X_train`, `y_train`\n",
    "- Variável com sufixo `_test` para o conjunto de teste. Ex: `X_test`, `y_test`\n",
    "\n",
    "<!-->\n",
    "**Obs:** embora o conjunto de dados possua um único atributo, a matrix de projeto $\\bX$, de dimensões \"número de amostras x número de atributos\", deve ser definida no NumPy como um array 2-D (e não 1-D), para manter a compatibilidade com o caso de $n \\geq 2$ atributos. \n",
    "<-->"
   ]
  },
  {
   "cell_type": "markdown",
   "metadata": {},
   "source": [
    "# Regressão linear simples\n",
    "\n",
    "\n",
    "- Treine um modelo de regressão linear simples, $\\hat{y} = w_0 + w_1 x_1$, sobre o conjunto de treinamento, usando a solução analítica (equação normal)\n",
    "- Calcule o erro médio quadrático (MSE) da predição sobre o conjunto de treinamento e sobre o conjunto de teste\n",
    "- Trace o gráfico da predição sobre o conjunto de dados completo\n",
    "- Repita os itens acima usando o método do gradiente para treinamento. Em particular, trace o gráfico do erro de treinamento em função da iteração, para auxiliar na escolha de um bom valor da taxa de aprendizado $\\alpha$.\n",
    "- **Análise:** você diria que o modelo treinado está sofrendo de underfitting, overfitting ou nenhum dos dois? Explique."
   ]
  },
  {
   "cell_type": "markdown",
   "metadata": {},
   "source": [
    "### Dicas de implementação\n",
    "\n",
    "- Lembre de adicionar uma coluna de 1's à matriz de projeto $\\bX$ (matriz de atributos).\n",
    "- Organize sua implementação nas seguintes funções\n",
    "\n",
    "```python\n",
    "def predict(w, X):\n",
    "    return y_hat\n",
    "\n",
    "def cost(w, X, y):\n",
    "    return J\n",
    "\n",
    "def gradient(w, X, y):\n",
    "    return grad\n",
    "\n",
    "def fit(X, y):\n",
    "    # Fits using the normal equation\n",
    "    return w\n",
    "\n",
    "def fit_gd(X, y, alpha=1, num_iter=100):\n",
    "    # Fits using gradient descent\n",
    "    # J_history gives a list of values of the cost function for each iteration\n",
    "    return w, J_history\n",
    "```\n",
    "- As seguintes funções podem ser úteis:\n",
    "\n",
    "```python\n",
    "np.mean(), np.ones(), np.zeros(), np.c_[], np.hstack(), np.linalg.inv(), np.linalg.solve()\n",
    "```"
   ]
  },
  {
   "cell_type": "markdown",
   "metadata": {},
   "source": [
    "# Regressão linear com múltiplas variáveis\n",
    "\n",
    "Esta parte do exercício tem dois objetivos: (1) obter um melhor ajuste dos dados através de um modelo de regressão que utiliza funções não-lineares do atributo original; e (2) ilustrar a necessidade de regularização quando a capacidade do modelo se torna muito elevada comparativamente ao tamanho do conjunto de treinamento.\n",
    "\n",
    "- Primeiramente, adicione mais atributos derivados dos atributos originais usando funções não-lineares (por exemplo, potências de $x_1$), de forma a reduzir significativamente o erro de treinamento e também o erro de teste.\n",
    "- Em seguida, reduza o tamanho do conjunto de treinamento até que o erro de treinamento se torne muito menor que o erro de teste. Você pode também adicionar ainda mais atributos derivados para que os erros se tornem ainda mais discrepantes.\n",
    "- Implemente o treinamento com regularização $\\ell_2$ e plote um gráfico dos erros de treinamento e de teste em função do parâmetro de regularização $\\lambda$ (em escala logarítmica). _Lembre-se que, ao contrário da função custo regularizada utilizada para treinamento, o erro do modelo (em qualquer conjunto de dados) deve ser calculado **sem regularização**._\n",
    "- A partir destes resultados, determine o valor ótimo de $\\lambda$, i.e., o que produz o menor erro no conjunto de teste. Para este valor de $\\lambda$, o erro de teste se aproximou do erro de treinamento?\n",
    "- **Análise:** o que você pode concluir sobre o uso de múltiplos atributos e sobre o uso de regularização?"
   ]
  },
  {
   "cell_type": "markdown",
   "metadata": {},
   "source": [
    "### Dicas de implementação\n",
    "\n",
    "- Para implementar a regularização, redefina as funções relevantes adicionando um parâmetro `lamb` com valor padrão `lamb=0`. Assim, as funções se mantém compatíveis e podem ser reutilizadas com ou sem regularização. Por exemplo:\n",
    "\n",
    "```python\n",
    "def fit(X, y, lamb=0):\n",
    "    # Fits using the normal equation\n",
    "    return w\n",
    "```\n",
    "- Não utilize `lambda` como nome de variável, pois no Python `lambda` é uma palavra reservada (operador para criar funções anônimas).\n",
    "- As seguintes funções podem ser úteis:\n",
    "\n",
    "```python\n",
    "np.arange(), np.linspace(), np.diag(), np.concatenate(), np.exp(), np.log(), plt.legend()\n",
    "```"
   ]
  },
  {
   "cell_type": "markdown",
   "metadata": {},
   "source": [
    "---"
   ]
  },
  {
   "cell_type": "markdown",
   "metadata": {},
   "source": [
    "# Resolução do exercício\n",
    "\n",
    "## Regressão linear simples"
   ]
  },
  {
   "cell_type": "code",
   "execution_count": 3,
   "metadata": {},
   "outputs": [],
   "source": [
    "import numpy as np\n",
    "import matplotlib.pyplot as plt\n",
    "%matplotlib inline"
   ]
  },
  {
   "cell_type": "code",
   "execution_count": 4,
   "metadata": {},
   "outputs": [],
   "source": [
    "def generateDataset(n_samples=400, x_scale=[0,1], noise=0.1):\n",
    "    np.random.seed(0)\n",
    "    x = np.random.permutation(np.linspace(x_scale[0],x_scale[1],n_samples))\n",
    "    t = (x-x.min())/(x.max()-x.min())\n",
    "    y = 2 + np.abs(np.sin(1.5*np.pi*t)*np.log(1+2*t)/np.log(3)) + noise*np.random.randn(n_samples)\n",
    "    data = np.c_[x,y]\n",
    "    return data"
   ]
  },
  {
   "cell_type": "code",
   "execution_count": 5,
   "metadata": {
    "scrolled": false
   },
   "outputs": [
    {
     "data": {
      "image/png": "[encoded data removed]",
      "text/plain": [
       "<Figure size 432x288 with 1 Axes>"
      ]
     },
     "metadata": {},
     "output_type": "display_data"
    }
   ],
   "source": [
    "data = generateDataset()\n",
    "plt.plot(data[:,0],data[:,1],'bo'); plt.xlabel('x1'); plt.ylabel('y');"
   ]
  },
  {
   "cell_type": "markdown",
   "metadata": {},
   "source": [
    "- X é o vetor de atributos. \n",
    "- Concatenado um vetor de 1s para facilitar notação.\n",
    "- Dividido os dados entre porção de treinamento e porção de teste."
   ]
  },
  {
   "cell_type": "code",
   "execution_count": 6,
   "metadata": {},
   "outputs": [
    {
     "name": "stdout",
     "output_type": "stream",
     "text": [
      "(400, 2)\n",
      "(300, 2)\n",
      "(300, 1)\n"
     ]
    }
   ],
   "source": [
    "X = data[:,0].reshape(-1,1)\n",
    "y = data[:,1].reshape(-1,1)\n",
    "\n",
    "X = np.hstack((np.ones_like(X), X))\n",
    "print(X.shape)\n",
    "\n",
    "X_train = X[:300]\n",
    "X_test = X[300:]\n",
    "print(X_train.shape)\n",
    "\n",
    "y_train = y[:300]\n",
    "y_test = y[300:]\n",
    "print(y_train.shape)"
   ]
  },
  {
   "cell_type": "markdown",
   "metadata": {},
   "source": [
    "Funções estabelecidas de acordo com a teoria dos slides de aula. "
   ]
  },
  {
   "cell_type": "code",
   "execution_count": 7,
   "metadata": {},
   "outputs": [],
   "source": [
    "def predict(w, X):\n",
    "    y_hat = X @ w\n",
    "    return y_hat\n",
    "\n",
    "def cost(w, X, y):\n",
    "    J = (1.0/(2*X.shape[0]))*np.sum(np.power((predict(w, X)-y), 2))\n",
    "    return J\n",
    "\n",
    "def gradient(w, X, y):\n",
    "    grad = (1.0/X.shape[0])*(X.T @ ((X @ w) - y))\n",
    "    return grad\n",
    "\n",
    "def fit(X, y):\n",
    "    # Fits using the normal equation\n",
    "    w = np.linalg.inv(X.T @ X) @ (X.T @ y)\n",
    "    return w\n",
    "\n",
    "def fit_gd(X, y, alpha=1, num_iter=100):\n",
    "    # Fits using gradient descent\n",
    "    # J_history gives a list of values of the cost function for each iteration\n",
    "    w = np.random.randn(X.shape[1]).reshape(-1,1)\n",
    "    J_history = np.array([])\n",
    "    for i in range(num_iter):\n",
    "        w_new = w - alpha * gradient(w,X,y)\n",
    "        w = w_new\n",
    "        J_history = np.append(J_history, cost(w, X, y))\n",
    "    return w, J_history"
   ]
  },
  {
   "cell_type": "markdown",
   "metadata": {},
   "source": [
    "- Treinamento usando equação normal.\n",
    "- Predição usando dataset inteiro."
   ]
  },
  {
   "cell_type": "code",
   "execution_count": 8,
   "metadata": {
    "scrolled": true
   },
   "outputs": [
    {
     "name": "stdout",
     "output_type": "stream",
     "text": [
      "(1, 2)\n",
      "[[2.04170103]\n",
      " [0.6603956 ]]\n"
     ]
    },
    {
     "data": {
      "text/plain": [
       "(2, 400)"
      ]
     },
     "execution_count": 8,
     "metadata": {},
     "output_type": "execute_result"
    }
   ],
   "source": [
    "w = fit(X_train, y_train)\n",
    "y_hat = predict(w, X)\n",
    "print(w.T.shape)\n",
    "print(w)\n",
    "X.T.shape"
   ]
  },
  {
   "cell_type": "markdown",
   "metadata": {},
   "source": [
    "Custo de treinamento e teste."
   ]
  },
  {
   "cell_type": "code",
   "execution_count": 9,
   "metadata": {
    "scrolled": true
   },
   "outputs": [
    {
     "name": "stdout",
     "output_type": "stream",
     "text": [
      "0.02346392700012251\n",
      "0.02504866669923544\n"
     ]
    }
   ],
   "source": [
    "J_train = cost(w, X_train, y_train)\n",
    "J_test = cost(w, X_test, y_test)\n",
    "\n",
    "print(J_train)\n",
    "print(J_test)"
   ]
  },
  {
   "cell_type": "markdown",
   "metadata": {},
   "source": [
    "Plot da regressão utilizando a equação normal."
   ]
  },
  {
   "cell_type": "code",
   "execution_count": 10,
   "metadata": {},
   "outputs": [
    {
     "data": {
      "text/plain": [
       "Text(0,0.5,'y')"
      ]
     },
     "execution_count": 10,
     "metadata": {},
     "output_type": "execute_result"
    },
    {
     "data": {
      "image/png": "[encoded data removed]",
      "text/plain": [
       "<Figure size 432x288 with 1 Axes>"
      ]
     },
     "metadata": {},
     "output_type": "display_data"
    }
   ],
   "source": [
    "plt.plot(data[:,0],data[:,1],'bo')\n",
    "plt.plot(data[:,0],y_hat, color='r')\n",
    "plt.xlabel('x1')\n",
    "plt.ylabel('y')"
   ]
  },
  {
   "cell_type": "markdown",
   "metadata": {},
   "source": [
    "Treinamento utilizando método do gradiente"
   ]
  },
  {
   "cell_type": "code",
   "execution_count": 11,
   "metadata": {
    "scrolled": true
   },
   "outputs": [
    {
     "name": "stdout",
     "output_type": "stream",
     "text": [
      "[[2.04146112]\n",
      " [0.66084998]]\n",
      "[0.16472398 0.04029254 0.03093345 0.0294751  0.02865841 0.02797875\n",
      " 0.02738979 0.02687777 0.02643255 0.02604538 0.02570872 0.02541596\n",
      " 0.02516138 0.02494    0.02474749 0.02458009 0.02443452 0.02430794\n",
      " 0.02419787 0.02410215 0.02401891 0.02394653 0.02388359 0.02382886\n",
      " 0.02378127 0.02373988 0.02370389 0.02367259 0.02364538 0.02362172\n",
      " 0.02360114 0.02358324 0.02356768 0.02355415 0.02354238 0.02353215\n",
      " 0.02352325 0.02351552 0.02350879 0.02350294 0.02349785 0.02349343\n",
      " 0.02348958 0.02348623 0.02348332 0.02348079 0.02347859 0.02347668\n",
      " 0.02347502 0.02347357 0.02347231 0.02347122 0.02347027 0.02346944\n",
      " 0.02346872 0.0234681  0.02346755 0.02346708 0.02346667 0.02346631\n",
      " 0.023466   0.02346573 0.02346549 0.02346529 0.02346511 0.02346496\n",
      " 0.02346482 0.02346471 0.0234646  0.02346452 0.02346444 0.02346437\n",
      " 0.02346431 0.02346426 0.02346422 0.02346418 0.02346415 0.02346412\n",
      " 0.02346409 0.02346407 0.02346405 0.02346404 0.02346402 0.02346401\n",
      " 0.023464   0.02346399 0.02346398 0.02346397 0.02346397 0.02346396\n",
      " 0.02346396 0.02346395 0.02346395 0.02346395 0.02346394 0.02346394\n",
      " 0.02346394 0.02346394 0.02346394 0.02346394]\n"
     ]
    }
   ],
   "source": [
    "w_gd, J_hist = fit_gd(X_train, y_train)\n",
    "w = w_gd\n",
    "print(w)\n",
    "print(J_hist)"
   ]
  },
  {
   "cell_type": "markdown",
   "metadata": {},
   "source": [
    "Custo de treinamento e teste."
   ]
  },
  {
   "cell_type": "code",
   "execution_count": 12,
   "metadata": {},
   "outputs": [
    {
     "name": "stdout",
     "output_type": "stream",
     "text": [
      "0.023463935908894794\n",
      "0.025049681298145367\n"
     ]
    }
   ],
   "source": [
    "J_train = cost(w, X_train, y_train)\n",
    "J_test = cost(w, X_test, y_test)\n",
    "print(J_train)\n",
    "print(J_test)"
   ]
  },
  {
   "cell_type": "markdown",
   "metadata": {},
   "source": [
    "Plot da regressão utilizando o método do gradiente"
   ]
  },
  {
   "cell_type": "code",
   "execution_count": 13,
   "metadata": {},
   "outputs": [
    {
     "data": {
      "text/plain": [
       "Text(0,0.5,'y')"
      ]
     },
     "execution_count": 13,
     "metadata": {},
     "output_type": "execute_result"
    },
    {
     "data": {
      "image/png": "[encoded data removed]",
      "text/plain": [
       "<Figure size 432x288 with 1 Axes>"
      ]
     },
     "metadata": {},
     "output_type": "display_data"
    }
   ],
   "source": [
    "y_hat = predict(w, X)\n",
    "\n",
    "plt.plot(data[:,0],data[:,1],'bo')\n",
    "plt.plot(data[:,0],y_hat, color='r')\n",
    "plt.xlabel('x1')\n",
    "plt.ylabel('y')"
   ]
  },
  {
   "cell_type": "markdown",
   "metadata": {},
   "source": [
    "Gráfico Iteração x Erro do método do gradiente."
   ]
  },
  {
   "cell_type": "code",
   "execution_count": 14,
   "metadata": {
    "scrolled": true
   },
   "outputs": [
    {
     "data": {
      "text/plain": [
       "Text(0,0.5,'Erro')"
      ]
     },
     "execution_count": 14,
     "metadata": {},
     "output_type": "execute_result"
    },
    {
     "data": {
      "image/png": "[encoded data removed]",
      "text/plain": [
       "<Figure size 432x288 with 1 Axes>"
      ]
     },
     "metadata": {},
     "output_type": "display_data"
    }
   ],
   "source": [
    "x_axis = np.arange(100)\n",
    "plt.plot(x_axis, J_hist)\n",
    "plt.xlabel('Iteração')\n",
    "plt.ylabel('Erro')"
   ]
  },
  {
   "cell_type": "markdown",
   "metadata": {},
   "source": [
    "Gráfico Iteração x Erro para diferentes alphas"
   ]
  },
  {
   "cell_type": "code",
   "execution_count": 15,
   "metadata": {},
   "outputs": [
    {
     "data": {
      "image/png": "[encoded data removed]",
      "text/plain": [
       "<Figure size 432x288 with 1 Axes>"
      ]
     },
     "metadata": {},
     "output_type": "display_data"
    }
   ],
   "source": [
    "alpha_values = np.arange(0.5,1.6,.25)\n",
    "\n",
    "J_hist = []\n",
    "legend = []\n",
    "\n",
    "for a in alpha_values:\n",
    "    [w,J] = fit_gd(X_train, y_train, a, 100)\n",
    "    J_hist.append(J)\n",
    "    legend.append('Alpha = ' + str(a))\n",
    "    \n",
    "for e in J_hist:\n",
    "    plt.plot(e)\n",
    "\n",
    "plt.legend(legend)\n",
    "plt.show()"
   ]
  },
  {
   "cell_type": "markdown",
   "metadata": {},
   "source": [
    "Overshoot pelo valor elevado de alpha"
   ]
  },
  {
   "cell_type": "code",
   "execution_count": 16,
   "metadata": {},
   "outputs": [
    {
     "data": {
      "image/png": "[encoded data removed]",
      "text/plain": [
       "<Figure size 432x288 with 1 Axes>"
      ]
     },
     "metadata": {},
     "output_type": "display_data"
    }
   ],
   "source": [
    "alpha_values = np.arange(0.5,2.0,.25)\n",
    "\n",
    "J_hist = []\n",
    "legend = []\n",
    "\n",
    "for a in alpha_values:\n",
    "    [w,J] = fit_gd(X_train, y_train, a, 100)\n",
    "    J_hist.append(J)\n",
    "    legend.append('Alpha = ' + str(a))\n",
    "    \n",
    "for e in J_hist:\n",
    "    plt.plot(e)\n",
    "\n",
    "plt.legend(legend)\n",
    "plt.show()"
   ]
  },
  {
   "cell_type": "markdown",
   "metadata": {},
   "source": [
    "**Análise:** De acordo com gráfico iteração x erro, o gráfico da reta de regressão linear e os custos de treinamento e teste concluí-se que houve underfitting visto que não é possível ser representado apenas por uma reta."
   ]
  },
  {
   "cell_type": "markdown",
   "metadata": {},
   "source": [
    "---"
   ]
  },
  {
   "cell_type": "markdown",
   "metadata": {},
   "source": [
    "## Regressão linear com múltiplas variáveis"
   ]
  },
  {
   "cell_type": "markdown",
   "metadata": {},
   "source": [
    "Geração de novo dataset com novos atributos derivados do original utilizando funções não lineares."
   ]
  },
  {
   "cell_type": "code",
   "execution_count": 17,
   "metadata": {},
   "outputs": [],
   "source": [
    "def generateDataset(n_samples=400, x_scale=[0,1], noise=0.1):\n",
    "    np.random.seed(0)\n",
    "    x = np.random.permutation(np.linspace(x_scale[0],x_scale[1],n_samples))\n",
    "    t = (x-x.min())/(x.max()-x.min())\n",
    "    y = 2 + np.abs(np.sin(1.5*np.pi*t)*np.log(1+2*t)/np.log(3)) + noise*np.random.randn(n_samples)\n",
    "    data = np.c_[x,y]\n",
    "    return data"
   ]
  },
  {
   "cell_type": "markdown",
   "metadata": {},
   "source": [
    "- Criação de nova matriz de atributos.\n",
    "- Alteração do tamanho do conjunto de treinamento com a variável size."
   ]
  },
  {
   "cell_type": "code",
   "execution_count": 18,
   "metadata": {},
   "outputs": [
    {
     "name": "stdout",
     "output_type": "stream",
     "text": [
      "(400, 7)\n",
      "(300, 7)\n",
      "(100, 7)\n",
      "(300, 1)\n"
     ]
    }
   ],
   "source": [
    "data = generateDataset()\n",
    "\n",
    "# D = 3\n",
    "\n",
    "# for i in range(1, D+1):\n",
    "#     Xi[i] = np.power(x1,i)\n",
    "    \n",
    "# def plot_predict(w,X,y):\n",
    "#     y_hat = predict(w,X,y)\n",
    "#     plt.plot(data[:,0],data[:,1],'bo')\n",
    "#     plt.plot(x1,y_hat,'bo', color='r')\n",
    "#     plt.legend()\n",
    "#     plt.show()\n",
    "\n",
    "x1 = data[:,0].reshape(-1,1)\n",
    "x2 = np.power(x1,2)\n",
    "x3 = np.power(x1,3)\n",
    "x4 = np.power(x1,4)\n",
    "x5 = np.power(x1,5)\n",
    "x6 = np.power(x1,6)\n",
    "y = data[:,1].reshape(-1,1)\n",
    "\n",
    "X = np.hstack((np.ones_like(x1), x1, x2, x3, x4, x5, x6))\n",
    "print(X.shape)\n",
    "\n",
    "size = 300\n",
    "\n",
    "X_train = X[:size]\n",
    "X_test = X[size:]\n",
    "print(X_train.shape)\n",
    "print(X_test.shape)\n",
    "\n",
    "y_train = y[:size]\n",
    "y_test = y[size:]\n",
    "print(y_train.shape)"
   ]
  },
  {
   "cell_type": "markdown",
   "metadata": {},
   "source": [
    "Treinamento utilizando equação normal. Pesos grandes devido às potências elevadas dos ultimos atributos."
   ]
  },
  {
   "cell_type": "code",
   "execution_count": 19,
   "metadata": {},
   "outputs": [
    {
     "name": "stdout",
     "output_type": "stream",
     "text": [
      "[[   1.95889592]\n",
      " [   1.20839444]\n",
      " [  -7.47453407]\n",
      " [  84.28837814]\n",
      " [-272.38066576]\n",
      " [ 328.20649577]\n",
      " [-132.93198215]]\n"
     ]
    }
   ],
   "source": [
    "w = fit(X_train, y_train)\n",
    "print(w)"
   ]
  },
  {
   "cell_type": "markdown",
   "metadata": {},
   "source": [
    "Queda significativa no erro de treinamento e teste"
   ]
  },
  {
   "cell_type": "code",
   "execution_count": 20,
   "metadata": {},
   "outputs": [
    {
     "name": "stdout",
     "output_type": "stream",
     "text": [
      "0.0057836962140965995\n",
      "0.006597308740962072\n"
     ]
    }
   ],
   "source": [
    "J_train = cost(w, X_train, y_train)\n",
    "J_test = cost(w, X_test, y_test)\n",
    "print(J_train)\n",
    "print(J_test)"
   ]
  },
  {
   "cell_type": "markdown",
   "metadata": {},
   "source": [
    "Observando o gráfico podemos ver que a regressão representa melhor o conjunto de dados."
   ]
  },
  {
   "cell_type": "code",
   "execution_count": 21,
   "metadata": {
    "scrolled": true
   },
   "outputs": [
    {
     "data": {
      "text/plain": [
       "Text(0,0.5,'y')"
      ]
     },
     "execution_count": 21,
     "metadata": {},
     "output_type": "execute_result"
    },
    {
     "data": {
      "image/png": "[encoded data removed]",
      "text/plain": [
       "<Figure size 432x288 with 1 Axes>"
      ]
     },
     "metadata": {},
     "output_type": "display_data"
    }
   ],
   "source": [
    "y_hat = predict(w, X)\n",
    "\n",
    "plt.plot(data[:,0],data[:,1],'bo')\n",
    "plt.plot(x1,y_hat,'bo', color='r')\n",
    "plt.xlabel('x1')\n",
    "plt.ylabel('y')"
   ]
  },
  {
   "cell_type": "markdown",
   "metadata": {},
   "source": [
    "Diminuindo drásticamente o conjunto de treinamento em comparação ao de teste."
   ]
  },
  {
   "cell_type": "code",
   "execution_count": 22,
   "metadata": {},
   "outputs": [
    {
     "name": "stdout",
     "output_type": "stream",
     "text": [
      "(20, 7)\n",
      "(100, 7)\n",
      "(20, 1)\n"
     ]
    }
   ],
   "source": [
    "size = 20\n",
    "\n",
    "X_train = X[:size]\n",
    "X_test = X[300:]\n",
    "print(X_train.shape)\n",
    "print(X_test.shape)\n",
    "\n",
    "y_train = y[:size]\n",
    "y_test = y[300:]\n",
    "print(y_train.shape)"
   ]
  },
  {
   "cell_type": "markdown",
   "metadata": {},
   "source": [
    "Enquanto o erro de treinamento diminuiu, o erro de teste aumentou."
   ]
  },
  {
   "cell_type": "code",
   "execution_count": 23,
   "metadata": {},
   "outputs": [
    {
     "name": "stdout",
     "output_type": "stream",
     "text": [
      "[[ 1.46977313e+00]\n",
      " [ 1.74951958e+01]\n",
      " [-1.77546629e+02]\n",
      " [ 8.29681967e+02]\n",
      " [-1.82627933e+03]\n",
      " [ 1.85676255e+03]\n",
      " [-7.03415640e+02]]\n",
      "0.0018142124799783313\n",
      "0.21582407952387905\n"
     ]
    }
   ],
   "source": [
    "w = fit(X_train, y_train)\n",
    "print(w)\n",
    "\n",
    "J_train = cost(w, X_train, y_train)\n",
    "J_test = cost(w, X_test, y_test)\n",
    "print(J_train)\n",
    "print(J_test)"
   ]
  },
  {
   "cell_type": "markdown",
   "metadata": {},
   "source": [
    "Isso pode ser observado no gráfico."
   ]
  },
  {
   "cell_type": "code",
   "execution_count": 24,
   "metadata": {
    "scrolled": true
   },
   "outputs": [
    {
     "data": {
      "text/plain": [
       "Text(0,0.5,'y')"
      ]
     },
     "execution_count": 24,
     "metadata": {},
     "output_type": "execute_result"
    },
    {
     "data": {
      "image/png": "[encoded data removed]",
      "text/plain": [
       "<Figure size 432x288 with 1 Axes>"
      ]
     },
     "metadata": {},
     "output_type": "display_data"
    }
   ],
   "source": [
    "y_hat = predict(w, X)\n",
    "\n",
    "plt.plot(data[:,0],data[:,1],'bo')\n",
    "plt.plot(x1,y_hat,'bo', color='r')\n",
    "plt.xlabel('x1')\n",
    "plt.ylabel('y')"
   ]
  },
  {
   "cell_type": "markdown",
   "metadata": {},
   "source": [
    "## Regularização"
   ]
  },
  {
   "cell_type": "markdown",
   "metadata": {},
   "source": [
    "Regularização L2 para o treinamento.\n",
    "Equação: $ w = (X^TX + \\lambda L)^-1X^Ty$<br>\n",
    "Também foi adicionado a otimização com a regularização para as outras funções."
   ]
  },
  {
   "cell_type": "code",
   "execution_count": 25,
   "metadata": {},
   "outputs": [],
   "source": [
    "def fit(X, y, lamb=0):\n",
    "    # Fits using the normal equation\n",
    "    L = np.identity(len(X[1,:]))\n",
    "    L[0,0] = 0                   \n",
    "    w = np.linalg.inv(X.T @ X + lamb*L) @ (X.T @ y)\n",
    "    return w\n",
    "\n",
    "# def cost(w, X, y, lamb=0):\n",
    "#     L = np.identity(len(X[1,:]))\n",
    "#     L[0,0] = 0 \n",
    "#     J = (1.0/(2*len(X)))*np.sum(np.power((predict(w, X)-y), 2)) + lamb*(1.0/(2*len(X)))*(w.T @ L @ w)\n",
    "#     return J\n",
    "\n",
    "# def gradient(w, X, y, lamb=0):\n",
    "#     L = np.identity(len(X[1,:]))\n",
    "#     L[0,0] = 0     \n",
    "#     grad = (1.0/len(X))*(X.T @ ((X @ w) - y) + lamb*(L @ w))\n",
    "#     return grad\n",
    "\n",
    "# def fit_gd(X, y, alpha=1, num_iter=100, lamb=0):\n",
    "#     # Fits using gradient descent\n",
    "#     # J_history gives a list of values of the cost function for each iteration\n",
    "#     w = np.random.randn(X.shape[1]).reshape(-1,1)\n",
    "#     J_history = np.array([])\n",
    "#     I = np.identity(len(X[1,:]))\n",
    "#     L = I\n",
    "#     L[0,0] = 0 \n",
    "#     for i in range(num_iter):\n",
    "#         w_new = (I - (alpha*lamb/len(X))*L)*w - alpha * gradient(w,X,y)\n",
    "#         w = w_new\n",
    "#         J_history = np.append(J_history, cost(w, X, y))\n",
    "#     return w, J_history"
   ]
  },
  {
   "cell_type": "markdown",
   "metadata": {},
   "source": [
    "## Gráfico dos erros de treinamento e de teste em função do parâmetro de regularização  λ\n"
   ]
  },
  {
   "cell_type": "markdown",
   "metadata": {},
   "source": [
    "Observando o gráfico, um valor em que o erro de teste minimiza e que está próximo do erro de treinamento seria próximo de ln $\\lambda$ = -4.2"
   ]
  },
  {
   "cell_type": "code",
   "execution_count": 26,
   "metadata": {},
   "outputs": [
    {
     "data": {
      "image/png": "[encoded data removed]",
      "text/plain": [
       "<Figure size 432x288 with 1 Axes>"
      ]
     },
     "metadata": {},
     "output_type": "display_data"
    }
   ],
   "source": [
    "alpha_values = np.linspace(1,1e-20,10000,endpoint=False)\n",
    "\n",
    "J_train = []\n",
    "J_test = []\n",
    "\n",
    "\n",
    "for a in alpha_values:\n",
    "    w = fit(X_train, y_train, a)\n",
    "    new_J_train = cost(w, X_train, y_train)\n",
    "    new_J_test = cost(w, X_test, y_test)\n",
    "    J_train.append(new_J_train)\n",
    "    J_test.append(new_J_test)\n",
    "    \n",
    "ln_alpha = np.log(alpha_values)\n",
    "plt.plot(ln_alpha,J_train,color='blue')\n",
    "plt.plot(ln_alpha,J_test,color='red')\n",
    "plt.show()"
   ]
  },
  {
   "cell_type": "markdown",
   "metadata": {},
   "source": [
    "lambda = 1 (ln lambda = 0)"
   ]
  },
  {
   "cell_type": "markdown",
   "metadata": {},
   "source": [
    "Pode se observar que os pesos das funções derivadas se aproximam de zero para valores altos de regularização, diminuindo os graus de liberdade que foi obtido adicionando as funções extras"
   ]
  },
  {
   "cell_type": "code",
   "execution_count": 27,
   "metadata": {
    "scrolled": false
   },
   "outputs": [
    {
     "name": "stdout",
     "output_type": "stream",
     "text": [
      "[[2.20817715]\n",
      " [0.16936859]\n",
      " [0.08971961]\n",
      " [0.07558941]\n",
      " [0.08355758]\n",
      " [0.09240738]\n",
      " [0.09657395]]\n",
      "0.020040157259614073\n",
      "0.02174709438664622\n"
     ]
    },
    {
     "data": {
      "text/plain": [
       "Text(0,0.5,'y')"
      ]
     },
     "execution_count": 27,
     "metadata": {},
     "output_type": "execute_result"
    },
    {
     "data": {
      "image/png": "[encoded data removed]",
      "text/plain": [
       "<Figure size 432x288 with 1 Axes>"
      ]
     },
     "metadata": {},
     "output_type": "display_data"
    }
   ],
   "source": [
    "w1 = fit(X_train, y_train, 1) # ln 1 = 0\n",
    "print(w1)\n",
    "J_train = cost(w1, X_train, y_train)\n",
    "J_test = cost(w1, X_test, y_test)\n",
    "print(J_train)\n",
    "print(J_test)\n",
    "\n",
    "y_hat = predict(w1, X)\n",
    "\n",
    "plt.plot(data[:,0],data[:,1],'bo')\n",
    "plt.plot(x1,y_hat,'bo', color='r')\n",
    "plt.xlabel('x1')\n",
    "plt.ylabel('y')"
   ]
  },
  {
   "cell_type": "markdown",
   "metadata": {},
   "source": [
    "lambda = 1.5e-2 -> (ln lambda = -4.2)"
   ]
  },
  {
   "cell_type": "markdown",
   "metadata": {},
   "source": [
    "Para lambda = 1.5e-2 tivemos o menor erro de teste entre os gráficos observados e por consequencia, o melhor equilibrio."
   ]
  },
  {
   "cell_type": "code",
   "execution_count": 28,
   "metadata": {
    "scrolled": false
   },
   "outputs": [
    {
     "name": "stdout",
     "output_type": "stream",
     "text": [
      "[[ 1.99253827]\n",
      " [ 1.5916542 ]\n",
      " [-1.39587344]\n",
      " [-1.16062541]\n",
      " [-0.0437177 ]\n",
      " [ 0.97678414]\n",
      " [ 1.6677449 ]]\n",
      "0.010642379680253883\n",
      "0.01777800102877841\n"
     ]
    },
    {
     "data": {
      "text/plain": [
       "Text(0,0.5,'y')"
      ]
     },
     "execution_count": 28,
     "metadata": {},
     "output_type": "execute_result"
    },
    {
     "data": {
      "image/png": "[encoded data removed]",
      "text/plain": [
       "<Figure size 432x288 with 1 Axes>"
      ]
     },
     "metadata": {},
     "output_type": "display_data"
    }
   ],
   "source": [
    "w2 = fit(X_train, y_train,1.5e-2) # ln 1.5e-2 = -4.2\n",
    "print(w2)\n",
    "J_train = cost(w2, X_train, y_train)\n",
    "J_test = cost(w2, X_test, y_test)\n",
    "print(J_train)\n",
    "print(J_test)\n",
    "y_hat = predict(w2, X)\n",
    "\n",
    "plt.plot(data[:,0],data[:,1],'bo')\n",
    "plt.plot(x1,y_hat,'bo', color='r')\n",
    "plt.xlabel('x1')\n",
    "plt.ylabel('y')"
   ]
  },
  {
   "cell_type": "markdown",
   "metadata": {},
   "source": [
    "lambda = 1.5e-4 -> (ln lambda = -8.8)"
   ]
  },
  {
   "cell_type": "code",
   "execution_count": 29,
   "metadata": {},
   "outputs": [
    {
     "name": "stdout",
     "output_type": "stream",
     "text": [
      "[[ 1.74759963]\n",
      " [ 3.22682617]\n",
      " [-1.83718498]\n",
      " [-5.12329032]\n",
      " [-1.0461062 ]\n",
      " [ 3.30320292]\n",
      " [ 4.71820965]]\n",
      "0.004748657872079761\n",
      "0.06546154391585805\n"
     ]
    },
    {
     "data": {
      "text/plain": [
       "Text(0,0.5,'y')"
      ]
     },
     "execution_count": 29,
     "metadata": {},
     "output_type": "execute_result"
    },
    {
     "data": {
      "image/png": "[encoded data removed]",
      "text/plain": [
       "<Figure size 432x288 with 1 Axes>"
      ]
     },
     "metadata": {},
     "output_type": "display_data"
    }
   ],
   "source": [
    "w3 = fit(X_train, y_train, 1.5e-4) # ln 1.5e-4 = -8.8\n",
    "print(w3)\n",
    "J_train = cost(w3, X_train, y_train)\n",
    "J_test = cost(w3, X_test, y_test)\n",
    "print(J_train)\n",
    "print(J_test)\n",
    "y_hat = predict(w3, X)\n",
    "\n",
    "plt.plot(data[:,0],data[:,1],'bo')\n",
    "plt.plot(x1,y_hat,'bo', color='r')\n",
    "plt.xlabel('x1')\n",
    "plt.ylabel('y')"
   ]
  },
  {
   "cell_type": "markdown",
   "metadata": {},
   "source": [
    "lambda = 1.5e-8 -> (ln lambda = -18)"
   ]
  },
  {
   "cell_type": "code",
   "execution_count": 30,
   "metadata": {},
   "outputs": [
    {
     "name": "stdout",
     "output_type": "stream",
     "text": [
      "[[   1.7356135 ]\n",
      " [   6.80827112]\n",
      " [ -62.61568389]\n",
      " [ 324.76256742]\n",
      " [-777.38217198]\n",
      " [ 829.4150016 ]\n",
      " [-321.28140398]]\n",
      "0.0025497795780764568\n",
      "0.023995234751524826\n"
     ]
    },
    {
     "data": {
      "text/plain": [
       "Text(0,0.5,'y')"
      ]
     },
     "execution_count": 30,
     "metadata": {},
     "output_type": "execute_result"
    },
    {
     "data": {
      "image/png": "[encoded data removed]",
      "text/plain": [
       "<Figure size 432x288 with 1 Axes>"
      ]
     },
     "metadata": {},
     "output_type": "display_data"
    }
   ],
   "source": [
    "w4 = fit(X_train, y_train, 1.5e-8) # ln 1.5e-8 = -18\n",
    "print(w4)\n",
    "J_train = cost(w4, X_train, y_train)\n",
    "J_test = cost(w4, X_test, y_test)\n",
    "print(J_train)\n",
    "print(J_test)\n",
    "y_hat = predict(w4, X)\n",
    "\n",
    "plt.plot(data[:,0],data[:,1],'bo')\n",
    "plt.plot(x1,y_hat,'bo', color='r')\n",
    "plt.xlabel('x1')\n",
    "plt.ylabel('y')"
   ]
  },
  {
   "cell_type": "markdown",
   "metadata": {},
   "source": [
    "lambda = 1.5e-12 -> (ln lambda = -27.22)"
   ]
  },
  {
   "cell_type": "code",
   "execution_count": 31,
   "metadata": {
    "scrolled": false
   },
   "outputs": [
    {
     "name": "stdout",
     "output_type": "stream",
     "text": [
      "[[ 1.46983464e+00]\n",
      " [ 1.74927247e+01]\n",
      " [-1.77520065e+02]\n",
      " [ 8.29565302e+02]\n",
      " [-1.82603703e+03]\n",
      " [ 1.85652526e+03]\n",
      " [-7.03327392e+02]]\n",
      "0.0018142125192335172\n",
      "0.2157545699751553\n"
     ]
    },
    {
     "data": {
      "text/plain": [
       "Text(0,0.5,'y')"
      ]
     },
     "execution_count": 31,
     "metadata": {},
     "output_type": "execute_result"
    },
    {
     "data": {
      "image/png": "[encoded data removed]",
      "text/plain": [
       "<Figure size 432x288 with 1 Axes>"
      ]
     },
     "metadata": {},
     "output_type": "display_data"
    }
   ],
   "source": [
    "# Método do gradiente\n",
    "w5 = fit(X_train, y_train, 1.5e-12) # ln1.5e-12 = -27.22\n",
    "print(w5)\n",
    "J_train = cost(w5, X_train, y_train)\n",
    "J_test = cost(w5, X_test, y_test)\n",
    "print(J_train)\n",
    "print(J_test)\n",
    "y_hat = predict(w5, X)\n",
    "\n",
    "plt.plot(data[:,0],data[:,1],'bo')\n",
    "plt.plot(x1,y_hat,'bo', color='r')\n",
    "plt.xlabel('x1')\n",
    "plt.ylabel('y')"
   ]
  }
 ],
 "metadata": {
  "kernelspec": {
   "display_name": "Python 3",
   "language": "python",
   "name": "python3"
  },
  "language_info": {
   "codemirror_mode": {
    "name": "ipython",
    "version": 3
   },
   "file_extension": ".py",
   "mimetype": "text/x-python",
   "name": "python",
   "nbconvert_exporter": "python",
   "pygments_lexer": "ipython3",
   "version": "3.6.6rc1"
  }
 },
 "nbformat": 4,
 "nbformat_minor": 2
}
