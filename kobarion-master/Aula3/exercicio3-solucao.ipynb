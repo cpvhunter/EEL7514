{
 "cells": [
  {
   "cell_type": "markdown",
   "metadata": {},
   "source": [
    "Universidade Federal de Santa Catarina<br>\n",
    "Departamento de Engenharia Elétrica e Eletrônica<br>\n",
    "EEL7514/EEL7513 - Introdução ao Aprendizado de Máquina\n",
    "\n",
    "**Aluno:** Rodrigo Kobashikawa Rosa<br>\n",
    "**Matrícula:** 14201073\n",
    "$\\newcommand{\\bX}{\\mathbf{X}}$\n",
    "$\\newcommand{\\bw}{\\mathbf{w}}$\n",
    "$\\newcommand{\\by}{\\mathbf{y}}$\n",
    "$\\newcommand{\\bx}{\\mathbf{x}}$\n",
    "$\\newcommand{\\RR}{\\mathbb{R}}$\n",
    "\n",
    "\n",
    "# Exercício 3: Regressão Linear (II)\n",
    "\n",
    "Neste exercício você irá treinar um modelo de regressão linear, usando tanto a equação normal quanto o método do gradiente, e o usará para fazer predições sobre um conjunto de teste. Além disso, você investigará a adição de novos atributos e a necessidade de regularização."
   ]
  },
  {
   "cell_type": "markdown",
   "metadata": {},
   "source": [
    "# Conjunto de dados\n",
    "\n",
    "O conjunto de dados que usaremos consiste de dados sobre a venda de casas em King County, USA, entre maio de 2014 e maio de 2015. O objetivo é prever o preço de venda a partir de informações sobre a casa. Baixe o arquivo em\n",
    "\n",
    "http://www.kaggle.com/harlfoxem/housesalesprediction/data\n",
    "\n",
    "descompacte-o e salve-o numa subpasta `data`, i.e., o arquivo estará acessível em `data/kc_house_data.csv`\n",
    "\n",
    "Como variável de saída, $y$, utilize o **logaritmo** neperiano do preço de venda, `price`. Desta forma o erro na predição de $y$ será função do erro _relativo_ na predição do preço, evitando dar peso excessivo aos preços mais altos. Como atributos, utilize apenas as 4 colunas após o preço de venda, i.e., `bedrooms`, `bathrooms`, `sqft_living` e `sqft_lot`.\n",
    "\n",
    "Separe o conjunto de dados aleatoriamente em conjuntos de treinamento e teste, nas proporções 80% e 20%, respectivamente.\n",
    "\n",
    "Como função perda para o treinamento, utilize o erro quadrático, e, como métrica de avaliação do modelo, utilize a raiz quadrada do erro quadrático médio ([RMSE](https://en.wikipedia.org/wiki/Root-mean-square_error)). **Obs:** ambos são equivalentes, mas o segundo resulta em valores numa escala mais agradável para análise.\n",
    "\n",
    "<!---\n",
    "o coeficiente $R^2$ (veja definição em https://en.wikipedia.org/wiki/Coefficient_of_determination). \n",
    "-->\n",
    "\n",
    "### Dicas de implementação\n",
    "\n",
    "- As seguintes funções podem ser úteis:\n",
    "\n",
    "```python\n",
    "pd.DataFrame.as_matrix(), np.astype('float'), np.random.seed(), np.random.permutation(), int(round())\n",
    "```\n",
    "- É recomendável utilizar `np.random.seed(0)` (ou qualquer outro valor de _seed_) antes de separar o conjunto de dados, para garantir que seus resultados sejam reprodutíveis."
   ]
  },
  {
   "cell_type": "markdown",
   "metadata": {
    "collapsed": true
   },
   "source": [
    "# Exploração dos dados\n",
    "\n",
    "Para cada atributo, trace o gráfico da variável de saída em função do atributo, sobre o conjunto de treinamento. Observe as escalas das variáveis envolvidas e analise se há alguma dependência aparente entre as variáveis. Intuitivamente, qual atributo parece ser mais preditivo do preço do venda?"
   ]
  },
  {
   "cell_type": "markdown",
   "metadata": {},
   "source": [
    "# Organizando o modelo em uma classe do Python\n",
    "\n",
    "Inicialmente você deve treinar um modelo de regressão linear usando a solução analítica (equação normal) e calcular o RMSE da predição sobre o conjunto de treinamento e sobre o conjunto de teste (semelhante ao exercício anterior)\n",
    "\n",
    "Porém, para facilitar a implementação de modificações nas questões seguintes, organize suas funções como uma classe do Python:\n",
    "\n",
    "```python\n",
    "class Model():\n",
    "    # Linear regression model\n",
    "    def __init__(self):\n",
    "        # Initialization (optional)\n",
    "        return\n",
    "    def add_ones(self, X):\n",
    "        # Add column of ones\n",
    "        return X_new\n",
    "    def fit(self, X, y):\n",
    "        # Add column of ones\n",
    "        # Fit linear regression\n",
    "        return\n",
    "    def predict(self, X):\n",
    "        # Add column of ones\n",
    "        # Compute prediction\n",
    "        return y_hat\n",
    "    def cost(self, X, y):\n",
    "        return J\n",
    "    def rmse(self, X, y):\n",
    "        # Root-mean-square error (RMSE)\n",
    "        return E\n",
    "```\n",
    "\n",
    "Em particular, você **não** deve adicionar uma coluna de 1's à matriz $\\bX$, a qual deve conter somente os atributos originais (4 colunas). A adição do atributo constante deve ser feita pela função `add_ones` e utilizada por outras funções (`fit`, `predict`, etc) sempre que preciso.\n",
    "\n",
    "Após o treinamento, o vetor de parâmetros do modelo ($w$) deve ser armazenado dentro do objeto usando `self.w`, podendo ser reutilizado por outras funções (`predict`) sempre que preciso. Também será possível acessá-lo externamente pelo comando `model.w`, onde `model` é um objeto da classe `Model`.\n",
    "\n",
    "Exemplo:\n",
    "\n",
    "```python\n",
    "model = Model()\n",
    "model.fit(X_train, y_train)\n",
    "print(model.w)\n",
    "J_train = model.cost(X_train, y_train)\n",
    "print(J_train)\n",
    "y_hat = model.predict(X)\n",
    "```\n",
    "\n",
    "**Obs:** Caso deseje passar argumentos durante a criação do objeto (ex: `model = Model(arg1, arg2)`), estes devem ser incluídos na função `__init__`, a qual é executada quando o objeto é criado.\n",
    "\n",
    "### Análise\n",
    "\n",
    "- Você diria que o modelo treinado sofre de underfitting, overfitting ou nenhum dos dois? Explique.\n",
    "- Intuitivamente, essa conclusão já era esperada antes mesmo de treinar o modelo? Por quê?"
   ]
  },
  {
   "cell_type": "markdown",
   "metadata": {},
   "source": [
    "# Método do gradiente\n",
    "\n",
    "Adicione à classe do modelo uma função de treinamento via método do gradiente:\n",
    "\n",
    "```python\n",
    "def fit_gd(self, X, y, alpha=1, num_iter=100):\n",
    "    # Add column of ones\n",
    "    # Fit linear regression (gradient descent)\n",
    "    return J_history\n",
    "```\n",
    "\n",
    "Alternativamente, ao invés de adicionar uma nova função, você pode modificar a função `fit` adicionando um novo método de treinamento:\n",
    "```python\n",
    "def fit(self, X, y, solver='ne', alpha=1, num_iter=100):\n",
    "    # Add column of ones\n",
    "    if solver == 'ne':\n",
    "        # Fit linear regression (normal equation)\n",
    "        return\n",
    "    elif solver == 'gd':\n",
    "        # Fit linear regression (gradient descent)\n",
    "        return J_history\n",
    "    else:\n",
    "        raise RuntimeError('Unknown solver')\n",
    "    return\n",
    "```\n",
    "\n",
    "\n",
    "\n",
    "Repita o treinamento, escolhendo apropriadamente a taxa de aprendizado (trace gráficos de `J_history`), e observe a dificuldade de conseguir uma boa convergência, em particular, de alcançar o mesmo erro que a equação normal. Explique por que isso ocorre e por que já era esperado.        "
   ]
  },
  {
   "cell_type": "markdown",
   "metadata": {},
   "source": [
    "# Normalização de atributos\n",
    "\n",
    "Implemente a normalização (escalonamento) de atributos conforme vista em sala, a qual consiste de:\n",
    "- Subtração da média do atributo, para que passe a ter média nula\n",
    "- Divisão pelo desvio padrão do atributo, para que passe a ter variância unitária\n",
    "\n",
    "Esse tipo de normalização também é chamado em alguns contextos de padronização (_standardization_), no sentido de resultar na mesma média (0) e variância (1) de uma variável aleatória gaussiana padrão (_standard_), em contraste com outros tipos de normalização (por exemplo, reescalonamento para a escala [0,1]).\n",
    "\n",
    "Para implementar a normalização:\n",
    "- Adicione à classe do modelo uma função de cálculo dos parâmetros, a qual deve armazenar a média e desvio padrão de cada atributo:\n",
    "\n",
    "```python\n",
    "    def fit_scaler(self, X):\n",
    "        # Compute and store scaler parameters\n",
    "        return\n",
    "```\n",
    "\n",
    "- Adicione à classe do modelo uma função de escalonamento dos atributos, a qual deve usar os parâmetros calculados pela função `fit_scaler`:\n",
    "\n",
    "```python\n",
    "    def scale(self, X):\n",
    "        # Scale features\n",
    "        return X_new\n",
    "```\n",
    "\n",
    "- Modifique a função `fit` para que inicie chamando a função `fit_scaler` e em seguida aplique a função `scale`.\n",
    "- Modifique a função `predict` para que aplique a função `scale`.\n",
    "\n",
    "\n",
    "\n",
    "\n",
    "Realize novamente o treinamento e verifique que agora o método do gradiente converge rapidamente para a solução ótima.\n",
    "\n",
    "### Dicas de implementação\n",
    "\n",
    "- As seguintes funções podem ser úteis:\n",
    "\n",
    "```python\n",
    "np.mean(axis=0), np.std(axis=0)\n",
    "```\n",
    "\n",
    "- Revise as propriedades de broadcasting do NumPy, em particular em operações envolvendo matrizes e arrays 1D.\n",
    "- Para depurar possíveis erros, lembre-se de verificar o `shape` dos arrays envolvidos."
   ]
  },
  {
   "cell_type": "markdown",
   "metadata": {},
   "source": [
    "# Adição de atributos\n",
    "\n",
    "Adicione novos atributos derivados dos originais (não necessariamente polinomiais) de forma a melhorar o desempenho do modelo. Use sua criatividade e intuição para desenvolver bons atributos.\n",
    "\n",
    "Para implementar a adição de atributos, inclua uma função:\n",
    "\n",
    "```python\n",
    "def add_features(self, X):\n",
    "    # Add new features derived from the original ones\n",
    "    return X_new\n",
    "```\n",
    "\n",
    "e modifique apropriadamente as funções `fit` e `predict`."
   ]
  },
  {
   "cell_type": "markdown",
   "metadata": {},
   "source": [
    "# Regularização\n",
    "\n",
    "Para evitar overfitting, utilize regularização L2, conforme exercício anterior. Implemente-a em ambos os métodos de treinamento.\n",
    "\n",
    "### Conjunto de validação\n",
    "\n",
    "Para determinar o valor ótimo do parâmetro de regularização $\\lambda$, devemos evitar medir o desempenho no conjunto de teste, pois podemos acabar causando overfitting neste conjunto. É recomendável usar o conjunto de teste somente na avaliação final do modelo. Para isto, podemos separar parte do conjunto de treinamento para utilizar como **conjunto de validação**, usando para treinamento somente as amostras restantes. Este método de validação é conhecido como **hold-out**.\n",
    "\n",
    "Nesse caso, é recomendável utilizar um conjunto de validação com o mesmo tamanho do conjunto de teste. Dessa forma, o conjunto de treinamento original deve ser divido em 3/4 para treinamento e 1/4 para validação, resultando em conjuntos de treinamento, validação e teste contendo 60%, 20% e 20% das amostras, respectivamente.\n",
    "\n",
    "- Assim como no exercício anterior, determine o valor ótimo de $\\lambda$, porém medindo o desempenho no conjunto de validação. Em seguida, avalie o desempenho do modelo (com $\\lambda$ ótimo) no conjunto de teste."
   ]
  },
  {
   "cell_type": "markdown",
   "metadata": {},
   "source": [
    "# Usando a biblioteca scikit-learn\n",
    "\n",
    "Agora, refaça todo o exercício usando a biblioteca [scikit-learn](http://scikit-learn.org)\n",
    "\n",
    "Em particular, utilize as seguintes funções:\n",
    "\n",
    "```python\n",
    "sklearn.model_selection.train_test_split()\n",
    "sklearn.linear_model.LinearRegression()\n",
    "sklearn.preprocessing.StandardScaler()\n",
    "sklearn.pipeline.Pipeline()\n",
    "sklearn.preprocessing.PolynomialFeatures()\n",
    "sklearn.linear_model.Ridge()\n",
    "sklearn.linear_model.RidgeCV()\n",
    "```"
   ]
  },
  {
   "cell_type": "markdown",
   "metadata": {
    "collapsed": true
   },
   "source": [
    "# (OPCIONAL)\n",
    "\n",
    "- Refaça a análise utilizando mais colunas da tabela original. Você consegue reduzir o erro no conjunto de teste?\n",
    "- Utilize um outro conjunto de dados com múltiplos atributos. Sugestão: https://archive.ics.uci.edu/ml/datasets/Wine+Quality"
   ]
  },
  {
   "cell_type": "markdown",
   "metadata": {},
   "source": [
    "---"
   ]
  },
  {
   "cell_type": "markdown",
   "metadata": {},
   "source": [
    "# Resolução do exercício"
   ]
  },
  {
   "cell_type": "code",
   "execution_count": 1,
   "metadata": {},
   "outputs": [],
   "source": [
    "import numpy as np\n",
    "import pandas as pd\n",
    "import matplotlib.pyplot as plt\n",
    "%matplotlib inline"
   ]
  },
  {
   "cell_type": "markdown",
   "metadata": {},
   "source": [
    "## Conjunto de dados"
   ]
  },
  {
   "cell_type": "markdown",
   "metadata": {},
   "source": [
    "Load do conjunto de dados"
   ]
  },
  {
   "cell_type": "code",
   "execution_count": 2,
   "metadata": {
    "scrolled": true
   },
   "outputs": [
    {
     "data": {
      "text/html": [
       "<div>\n",
       "<style scoped>\n",
       "    .dataframe tbody tr th:only-of-type {\n",
       "        vertical-align: middle;\n",
       "    }\n",
       "\n",
       "    .dataframe tbody tr th {\n",
       "        vertical-align: top;\n",
       "    }\n",
       "\n",
       "    .dataframe thead th {\n",
       "        text-align: right;\n",
       "    }\n",
       "</style>\n",
       "<table border=\"1\" class=\"dataframe\">\n",
       "  <thead>\n",
       "    <tr style=\"text-align: right;\">\n",
       "      <th></th>\n",
       "      <th>id</th>\n",
       "      <th>date</th>\n",
       "      <th>price</th>\n",
       "      <th>bedrooms</th>\n",
       "      <th>bathrooms</th>\n",
       "      <th>sqft_living</th>\n",
       "      <th>sqft_lot</th>\n",
       "      <th>floors</th>\n",
       "      <th>waterfront</th>\n",
       "      <th>view</th>\n",
       "      <th>...</th>\n",
       "      <th>grade</th>\n",
       "      <th>sqft_above</th>\n",
       "      <th>sqft_basement</th>\n",
       "      <th>yr_built</th>\n",
       "      <th>yr_renovated</th>\n",
       "      <th>zipcode</th>\n",
       "      <th>lat</th>\n",
       "      <th>long</th>\n",
       "      <th>sqft_living15</th>\n",
       "      <th>sqft_lot15</th>\n",
       "    </tr>\n",
       "  </thead>\n",
       "  <tbody>\n",
       "    <tr>\n",
       "      <th>21608</th>\n",
       "      <td>263000018</td>\n",
       "      <td>20140521T000000</td>\n",
       "      <td>360000.0</td>\n",
       "      <td>3</td>\n",
       "      <td>2.50</td>\n",
       "      <td>1530</td>\n",
       "      <td>1131</td>\n",
       "      <td>3.0</td>\n",
       "      <td>0</td>\n",
       "      <td>0</td>\n",
       "      <td>...</td>\n",
       "      <td>8</td>\n",
       "      <td>1530</td>\n",
       "      <td>0</td>\n",
       "      <td>2009</td>\n",
       "      <td>0</td>\n",
       "      <td>98103</td>\n",
       "      <td>47.6993</td>\n",
       "      <td>-122.346</td>\n",
       "      <td>1530</td>\n",
       "      <td>1509</td>\n",
       "    </tr>\n",
       "    <tr>\n",
       "      <th>21609</th>\n",
       "      <td>6600060120</td>\n",
       "      <td>20150223T000000</td>\n",
       "      <td>400000.0</td>\n",
       "      <td>4</td>\n",
       "      <td>2.50</td>\n",
       "      <td>2310</td>\n",
       "      <td>5813</td>\n",
       "      <td>2.0</td>\n",
       "      <td>0</td>\n",
       "      <td>0</td>\n",
       "      <td>...</td>\n",
       "      <td>8</td>\n",
       "      <td>2310</td>\n",
       "      <td>0</td>\n",
       "      <td>2014</td>\n",
       "      <td>0</td>\n",
       "      <td>98146</td>\n",
       "      <td>47.5107</td>\n",
       "      <td>-122.362</td>\n",
       "      <td>1830</td>\n",
       "      <td>7200</td>\n",
       "    </tr>\n",
       "    <tr>\n",
       "      <th>21610</th>\n",
       "      <td>1523300141</td>\n",
       "      <td>20140623T000000</td>\n",
       "      <td>402101.0</td>\n",
       "      <td>2</td>\n",
       "      <td>0.75</td>\n",
       "      <td>1020</td>\n",
       "      <td>1350</td>\n",
       "      <td>2.0</td>\n",
       "      <td>0</td>\n",
       "      <td>0</td>\n",
       "      <td>...</td>\n",
       "      <td>7</td>\n",
       "      <td>1020</td>\n",
       "      <td>0</td>\n",
       "      <td>2009</td>\n",
       "      <td>0</td>\n",
       "      <td>98144</td>\n",
       "      <td>47.5944</td>\n",
       "      <td>-122.299</td>\n",
       "      <td>1020</td>\n",
       "      <td>2007</td>\n",
       "    </tr>\n",
       "    <tr>\n",
       "      <th>21611</th>\n",
       "      <td>291310100</td>\n",
       "      <td>20150116T000000</td>\n",
       "      <td>400000.0</td>\n",
       "      <td>3</td>\n",
       "      <td>2.50</td>\n",
       "      <td>1600</td>\n",
       "      <td>2388</td>\n",
       "      <td>2.0</td>\n",
       "      <td>0</td>\n",
       "      <td>0</td>\n",
       "      <td>...</td>\n",
       "      <td>8</td>\n",
       "      <td>1600</td>\n",
       "      <td>0</td>\n",
       "      <td>2004</td>\n",
       "      <td>0</td>\n",
       "      <td>98027</td>\n",
       "      <td>47.5345</td>\n",
       "      <td>-122.069</td>\n",
       "      <td>1410</td>\n",
       "      <td>1287</td>\n",
       "    </tr>\n",
       "    <tr>\n",
       "      <th>21612</th>\n",
       "      <td>1523300157</td>\n",
       "      <td>20141015T000000</td>\n",
       "      <td>325000.0</td>\n",
       "      <td>2</td>\n",
       "      <td>0.75</td>\n",
       "      <td>1020</td>\n",
       "      <td>1076</td>\n",
       "      <td>2.0</td>\n",
       "      <td>0</td>\n",
       "      <td>0</td>\n",
       "      <td>...</td>\n",
       "      <td>7</td>\n",
       "      <td>1020</td>\n",
       "      <td>0</td>\n",
       "      <td>2008</td>\n",
       "      <td>0</td>\n",
       "      <td>98144</td>\n",
       "      <td>47.5941</td>\n",
       "      <td>-122.299</td>\n",
       "      <td>1020</td>\n",
       "      <td>1357</td>\n",
       "    </tr>\n",
       "  </tbody>\n",
       "</table>\n",
       "<p>5 rows × 21 columns</p>\n",
       "</div>"
      ],
      "text/plain": [
       "               id             date     price  bedrooms  bathrooms  \\\n",
       "21608   263000018  20140521T000000  360000.0         3       2.50   \n",
       "21609  6600060120  20150223T000000  400000.0         4       2.50   \n",
       "21610  1523300141  20140623T000000  402101.0         2       0.75   \n",
       "21611   291310100  20150116T000000  400000.0         3       2.50   \n",
       "21612  1523300157  20141015T000000  325000.0         2       0.75   \n",
       "\n",
       "       sqft_living  sqft_lot  floors  waterfront  view     ...      grade  \\\n",
       "21608         1530      1131     3.0           0     0     ...          8   \n",
       "21609         2310      5813     2.0           0     0     ...          8   \n",
       "21610         1020      1350     2.0           0     0     ...          7   \n",
       "21611         1600      2388     2.0           0     0     ...          8   \n",
       "21612         1020      1076     2.0           0     0     ...          7   \n",
       "\n",
       "       sqft_above  sqft_basement  yr_built  yr_renovated  zipcode      lat  \\\n",
       "21608        1530              0      2009             0    98103  47.6993   \n",
       "21609        2310              0      2014             0    98146  47.5107   \n",
       "21610        1020              0      2009             0    98144  47.5944   \n",
       "21611        1600              0      2004             0    98027  47.5345   \n",
       "21612        1020              0      2008             0    98144  47.5941   \n",
       "\n",
       "          long  sqft_living15  sqft_lot15  \n",
       "21608 -122.346           1530        1509  \n",
       "21609 -122.362           1830        7200  \n",
       "21610 -122.299           1020        2007  \n",
       "21611 -122.069           1410        1287  \n",
       "21612 -122.299           1020        1357  \n",
       "\n",
       "[5 rows x 21 columns]"
      ]
     },
     "execution_count": 2,
     "metadata": {},
     "output_type": "execute_result"
    }
   ],
   "source": [
    "df = pd.read_csv('data/kc_house_data.csv')\n",
    "df.tail()"
   ]
  },
  {
   "cell_type": "markdown",
   "metadata": {},
   "source": [
    "Removendo features que nao serao utilizadas"
   ]
  },
  {
   "cell_type": "code",
   "execution_count": 3,
   "metadata": {
    "scrolled": false
   },
   "outputs": [
    {
     "data": {
      "text/html": [
       "<div>\n",
       "<style scoped>\n",
       "    .dataframe tbody tr th:only-of-type {\n",
       "        vertical-align: middle;\n",
       "    }\n",
       "\n",
       "    .dataframe tbody tr th {\n",
       "        vertical-align: top;\n",
       "    }\n",
       "\n",
       "    .dataframe thead th {\n",
       "        text-align: right;\n",
       "    }\n",
       "</style>\n",
       "<table border=\"1\" class=\"dataframe\">\n",
       "  <thead>\n",
       "    <tr style=\"text-align: right;\">\n",
       "      <th></th>\n",
       "      <th>bedrooms</th>\n",
       "      <th>bathrooms</th>\n",
       "      <th>sqft_living</th>\n",
       "      <th>sqft_lot</th>\n",
       "      <th>price</th>\n",
       "    </tr>\n",
       "  </thead>\n",
       "  <tbody>\n",
       "    <tr>\n",
       "      <th>0</th>\n",
       "      <td>3</td>\n",
       "      <td>1.00</td>\n",
       "      <td>1180</td>\n",
       "      <td>5650</td>\n",
       "      <td>221900.0</td>\n",
       "    </tr>\n",
       "    <tr>\n",
       "      <th>1</th>\n",
       "      <td>3</td>\n",
       "      <td>2.25</td>\n",
       "      <td>2570</td>\n",
       "      <td>7242</td>\n",
       "      <td>538000.0</td>\n",
       "    </tr>\n",
       "    <tr>\n",
       "      <th>2</th>\n",
       "      <td>2</td>\n",
       "      <td>1.00</td>\n",
       "      <td>770</td>\n",
       "      <td>10000</td>\n",
       "      <td>180000.0</td>\n",
       "    </tr>\n",
       "    <tr>\n",
       "      <th>3</th>\n",
       "      <td>4</td>\n",
       "      <td>3.00</td>\n",
       "      <td>1960</td>\n",
       "      <td>5000</td>\n",
       "      <td>604000.0</td>\n",
       "    </tr>\n",
       "    <tr>\n",
       "      <th>4</th>\n",
       "      <td>3</td>\n",
       "      <td>2.00</td>\n",
       "      <td>1680</td>\n",
       "      <td>8080</td>\n",
       "      <td>510000.0</td>\n",
       "    </tr>\n",
       "  </tbody>\n",
       "</table>\n",
       "</div>"
      ],
      "text/plain": [
       "   bedrooms  bathrooms  sqft_living  sqft_lot     price\n",
       "0         3       1.00         1180      5650  221900.0\n",
       "1         3       2.25         2570      7242  538000.0\n",
       "2         2       1.00          770     10000  180000.0\n",
       "3         4       3.00         1960      5000  604000.0\n",
       "4         3       2.00         1680      8080  510000.0"
      ]
     },
     "execution_count": 3,
     "metadata": {},
     "output_type": "execute_result"
    }
   ],
   "source": [
    "df = df[['bedrooms','bathrooms','sqft_living','sqft_lot','price']]\n",
    "df.head()"
   ]
  },
  {
   "cell_type": "markdown",
   "metadata": {},
   "source": [
    "Removendo outliers"
   ]
  },
  {
   "cell_type": "code",
   "execution_count": 4,
   "metadata": {},
   "outputs": [],
   "source": [
    "df = df[df['bedrooms']<10]\n",
    "df = df[df['bathrooms']<6]\n",
    "df = df[df['sqft_living']<7000]\n",
    "df = df[df['sqft_lot']<600e3]"
   ]
  },
  {
   "cell_type": "markdown",
   "metadata": {},
   "source": [
    "Transformação de dataframe para matriz"
   ]
  },
  {
   "cell_type": "code",
   "execution_count": 5,
   "metadata": {},
   "outputs": [
    {
     "data": {
      "text/plain": [
       "array([[3.00000e+00, 1.00000e+00, 1.18000e+03, 5.65000e+03, 2.21900e+05],\n",
       "       [3.00000e+00, 2.25000e+00, 2.57000e+03, 7.24200e+03, 5.38000e+05],\n",
       "       [2.00000e+00, 1.00000e+00, 7.70000e+02, 1.00000e+04, 1.80000e+05],\n",
       "       ...,\n",
       "       [2.00000e+00, 7.50000e-01, 1.02000e+03, 1.35000e+03, 4.02101e+05],\n",
       "       [3.00000e+00, 2.50000e+00, 1.60000e+03, 2.38800e+03, 4.00000e+05],\n",
       "       [2.00000e+00, 7.50000e-01, 1.02000e+03, 1.07600e+03, 3.25000e+05]])"
      ]
     },
     "execution_count": 5,
     "metadata": {},
     "output_type": "execute_result"
    }
   ],
   "source": [
    "# data = pd.DataFrame.as_matrix(df) -> Method .as_matrix will be removed in a future version. Use .values instead.\n",
    "data = df.values\n",
    "data"
   ]
  },
  {
   "cell_type": "markdown",
   "metadata": {},
   "source": [
    "Shuffle aleatório do conjunto de dados"
   ]
  },
  {
   "cell_type": "code",
   "execution_count": 6,
   "metadata": {
    "scrolled": false
   },
   "outputs": [],
   "source": [
    "# np.random.seed(0)\n",
    "# np.random.permutation(data)"
   ]
  },
  {
   "cell_type": "code",
   "execution_count": 7,
   "metadata": {},
   "outputs": [
    {
     "data": {
      "text/plain": [
       "array([[3.000e+00, 1.000e+00, 1.180e+03, 5.650e+03],\n",
       "       [3.000e+00, 2.250e+00, 2.570e+03, 7.242e+03],\n",
       "       [2.000e+00, 1.000e+00, 7.700e+02, 1.000e+04],\n",
       "       ...,\n",
       "       [2.000e+00, 7.500e-01, 1.020e+03, 1.350e+03],\n",
       "       [3.000e+00, 2.500e+00, 1.600e+03, 2.388e+03],\n",
       "       [2.000e+00, 7.500e-01, 1.020e+03, 1.076e+03]])"
      ]
     },
     "execution_count": 7,
     "metadata": {},
     "output_type": "execute_result"
    }
   ],
   "source": [
    "X = data[:,[0,1,2,3]]\n",
    "X"
   ]
  },
  {
   "cell_type": "code",
   "execution_count": 8,
   "metadata": {},
   "outputs": [
    {
     "data": {
      "text/plain": [
       "(21560, 4)"
      ]
     },
     "execution_count": 8,
     "metadata": {},
     "output_type": "execute_result"
    }
   ],
   "source": [
    "X.shape"
   ]
  },
  {
   "cell_type": "code",
   "execution_count": 9,
   "metadata": {},
   "outputs": [
    {
     "data": {
      "text/plain": [
       "array([221900., 538000., 180000., ..., 402101., 400000., 325000.])"
      ]
     },
     "execution_count": 9,
     "metadata": {},
     "output_type": "execute_result"
    }
   ],
   "source": [
    "y = data[:,4]\n",
    "y"
   ]
  },
  {
   "cell_type": "code",
   "execution_count": 10,
   "metadata": {},
   "outputs": [
    {
     "data": {
      "text/plain": [
       "array([12.30998211, 13.19561384, 12.10071213, ..., 12.90445858,\n",
       "       12.89921983, 12.69158046])"
      ]
     },
     "execution_count": 10,
     "metadata": {},
     "output_type": "execute_result"
    }
   ],
   "source": [
    "y = np.log(y)\n",
    "y"
   ]
  },
  {
   "cell_type": "code",
   "execution_count": 11,
   "metadata": {},
   "outputs": [
    {
     "data": {
      "text/plain": [
       "(21560,)"
      ]
     },
     "execution_count": 11,
     "metadata": {},
     "output_type": "execute_result"
    }
   ],
   "source": [
    "y.shape"
   ]
  },
  {
   "cell_type": "markdown",
   "metadata": {},
   "source": [
    "Separação do conjunto de dados"
   ]
  },
  {
   "cell_type": "code",
   "execution_count": 12,
   "metadata": {},
   "outputs": [],
   "source": [
    "# size = int(round(X.shape[0]*0.8))\n",
    "# X_train = X[:size]\n",
    "# print(X_train.shape)\n",
    "# X_test = X[size:]\n",
    "# print(X_test.shape)\n",
    "\n",
    "# y_train = y[:size]\n",
    "# print(y_train.shape)\n",
    "# y_test = y[size:]\n",
    "# print(y_test.shape)"
   ]
  },
  {
   "cell_type": "code",
   "execution_count": 13,
   "metadata": {},
   "outputs": [
    {
     "name": "stdout",
     "output_type": "stream",
     "text": [
      "(17248, 4)\n",
      "(4312, 4)\n",
      "(17248, 1)\n",
      "(4312, 1)\n"
     ]
    }
   ],
   "source": [
    "from sklearn.model_selection import train_test_split\n",
    "X_train, X_test, y_train, y_test = train_test_split(X, y, test_size=0.2, random_state=0)\n",
    "y_train = y_train.reshape(-1,1)\n",
    "y_test = y_test.reshape(-1,1)\n",
    "print(X_train.shape)\n",
    "print(X_test.shape)\n",
    "print(y_train.shape)\n",
    "print(y_test.shape)\n"
   ]
  },
  {
   "cell_type": "markdown",
   "metadata": {},
   "source": [
    "## Exploração dos dados"
   ]
  },
  {
   "cell_type": "markdown",
   "metadata": {},
   "source": [
    "gráfico quartos x preço"
   ]
  },
  {
   "cell_type": "code",
   "execution_count": 14,
   "metadata": {},
   "outputs": [
    {
     "data": {
      "text/plain": [
       "<function matplotlib.pyplot.show>"
      ]
     },
     "execution_count": 14,
     "metadata": {},
     "output_type": "execute_result"
    },
    {
     "data": {
      "image/png": "[encoded data removed]",
      "text/plain": [
       "<Figure size 432x288 with 1 Axes>"
      ]
     },
     "metadata": {},
     "output_type": "display_data"
    }
   ],
   "source": [
    "plt.plot(X_train[:,0],y_train,'bo')\n",
    "plt.show"
   ]
  },
  {
   "cell_type": "markdown",
   "metadata": {},
   "source": [
    "gráfico banheiro x preço"
   ]
  },
  {
   "cell_type": "code",
   "execution_count": 15,
   "metadata": {},
   "outputs": [
    {
     "data": {
      "text/plain": [
       "<function matplotlib.pyplot.show>"
      ]
     },
     "execution_count": 15,
     "metadata": {},
     "output_type": "execute_result"
    },
    {
     "data": {
      "image/png": "[encoded data removed]",
      "text/plain": [
       "<Figure size 432x288 with 1 Axes>"
      ]
     },
     "metadata": {},
     "output_type": "display_data"
    }
   ],
   "source": [
    "plt.plot(X_train[:,1],y_train,'bo')\n",
    "plt.show"
   ]
  },
  {
   "cell_type": "markdown",
   "metadata": {},
   "source": [
    "gráfico área da casa x preço"
   ]
  },
  {
   "cell_type": "code",
   "execution_count": 16,
   "metadata": {},
   "outputs": [
    {
     "data": {
      "text/plain": [
       "<function matplotlib.pyplot.show>"
      ]
     },
     "execution_count": 16,
     "metadata": {},
     "output_type": "execute_result"
    },
    {
     "data": {
      "image/png": "[encoded data removed]",
      "text/plain": [
       "<Figure size 432x288 with 1 Axes>"
      ]
     },
     "metadata": {},
     "output_type": "display_data"
    }
   ],
   "source": [
    "plt.plot(X_train[:,2],y_train,'bo')\n",
    "plt.show"
   ]
  },
  {
   "cell_type": "markdown",
   "metadata": {},
   "source": [
    "gráfico área do terreno x preço"
   ]
  },
  {
   "cell_type": "code",
   "execution_count": 17,
   "metadata": {
    "scrolled": true
   },
   "outputs": [
    {
     "data": {
      "text/plain": [
       "<function matplotlib.pyplot.show>"
      ]
     },
     "execution_count": 17,
     "metadata": {},
     "output_type": "execute_result"
    },
    {
     "data": {
      "image/png": "[encoded data removed]",
      "text/plain": [
       "<Figure size 432x288 with 1 Axes>"
      ]
     },
     "metadata": {},
     "output_type": "display_data"
    }
   ],
   "source": [
    "plt.plot(X_train[:,3],y_train,'bo')\n",
    "plt.show"
   ]
  },
  {
   "cell_type": "markdown",
   "metadata": {},
   "source": [
    "Observando os gráficos das features do conjunto de treinamento, os gráficos das features 'sqft_living' e 'bathrooms' aparentam ser os mais preditivos em relação ao preço do imóvel. \n",
    "\n",
    "Pode-se observar uma relação de aumento de preço de acordo com o aumento do valor da feature e diferente das outras features tem uma menor variação no preço para dado valor."
   ]
  },
  {
   "cell_type": "markdown",
   "metadata": {},
   "source": [
    "## Organizando o modelo em uma classe do Python"
   ]
  },
  {
   "cell_type": "code",
   "execution_count": 18,
   "metadata": {},
   "outputs": [],
   "source": [
    "class Model():\n",
    "    # Linear regression model\n",
    "    def __init__(self):\n",
    "        # Initialization (optional)\n",
    "        return\n",
    "    def add_ones(self, X):\n",
    "        # Add column of ones\n",
    "        X_new = np.hstack((np.ones_like(X[:,0].reshape(-1,1)), X))\n",
    "        return X_new\n",
    "    def fit(self, X, y):\n",
    "        # Add column of ones\n",
    "        X = self.add_ones(X)\n",
    "        # Fit linear regression (normal equation)\n",
    "        w = np.linalg.inv(X.T @ X) @ (X.T @ y)\n",
    "        self.w = w\n",
    "        return\n",
    "    def predict(self, X):\n",
    "        # Add column of ones\n",
    "        X = self.add_ones(X)\n",
    "        # Compute prediction\n",
    "        y_hat = X @ self.w\n",
    "        return y_hat\n",
    "    def cost(self, X, y):\n",
    "        J = (1.0/(X.shape[0]))*np.sum(np.power((self.predict(X)-y), 2))\n",
    "        return J\n",
    "    def rmse(self, X, y):\n",
    "        # Root-mean-square error (RMSE)\n",
    "        E = np.sqrt(self.cost(X,y))\n",
    "        return E"
   ]
  },
  {
   "cell_type": "markdown",
   "metadata": {},
   "source": [
    "Treinando o modelo utilizando a equação normal"
   ]
  },
  {
   "cell_type": "code",
   "execution_count": 19,
   "metadata": {},
   "outputs": [
    {
     "name": "stdout",
     "output_type": "stream",
     "text": [
      "w:  [[ 1.23087723e+01]\n",
      " [-7.07232711e-02]\n",
      " [ 5.29682973e-02]\n",
      " [ 4.19765189e-04]\n",
      " [-4.99618651e-07]]\n",
      "Custo de treinamento:  0.37412803600518374\n",
      "Custo de teste:  0.37084520630405926\n"
     ]
    }
   ],
   "source": [
    "model = Model()\n",
    "model.fit(X_train, y_train)\n",
    "J_train = model.rmse(X_train, y_train)\n",
    "J_test = model.rmse(X_test, y_test)\n",
    "y_hat = model.predict(X)\n",
    "\n",
    "print(\"w: \", model.w)\n",
    "print(\"Custo de treinamento: \",J_train)\n",
    "print(\"Custo de teste: \",J_test)"
   ]
  },
  {
   "cell_type": "code",
   "execution_count": 20,
   "metadata": {
    "scrolled": true
   },
   "outputs": [
    {
     "data": {
      "text/plain": [
       "<function matplotlib.pyplot.show>"
      ]
     },
     "execution_count": 20,
     "metadata": {},
     "output_type": "execute_result"
    },
    {
     "data": {
      "image/png": "[encoded data removed]",
      "text/plain": [
       "<Figure size 432x288 with 1 Axes>"
      ]
     },
     "metadata": {},
     "output_type": "display_data"
    }
   ],
   "source": [
    "plt.plot(X_train[:,2],y_train,'bo')\n",
    "plt.plot(X[:,2],y_hat, 'bo',color='red')\n",
    "plt.show"
   ]
  },
  {
   "cell_type": "markdown",
   "metadata": {},
   "source": [
    "O modelo treinado conseguiu representar uma relação entre o preço e os atributos, porém pelos gráficos anteriores já haviamos observado que os conjuntos de features não apresentam uma forte correlação com o preço o que torna a predição menos precisa. "
   ]
  },
  {
   "cell_type": "markdown",
   "metadata": {},
   "source": [
    "## Método do gradiente"
   ]
  },
  {
   "cell_type": "markdown",
   "metadata": {},
   "source": [
    "Alterando a função fit para o uso do método do gradiente"
   ]
  },
  {
   "cell_type": "code",
   "execution_count": 21,
   "metadata": {},
   "outputs": [],
   "source": [
    "class Model():\n",
    "    # Linear regression model\n",
    "    def __init__(self):\n",
    "        # Initialization (optional)\n",
    "        return\n",
    "    def add_ones(self, X):\n",
    "        # Add column of ones\n",
    "        X_new = np.hstack((np.ones_like(X[:,0].reshape(-1,1)), X))\n",
    "        return X_new    \n",
    "    def fit(self, X, y, solver='ne', alpha=1, num_iter=100):\n",
    "        # Add column of ones\n",
    "        X = self.add_ones(X)\n",
    "        if solver == 'ne':\n",
    "            # Fit linear regression (normal equation)\n",
    "            w = np.linalg.inv(X.T @ X) @ (X.T @ y)\n",
    "            self.w = w\n",
    "            return\n",
    "        elif solver == 'gd':\n",
    "            # Fit linear regression (gradient descent)\n",
    "            # J_history gives a list of values of the cost function for each iteration\n",
    "            self.w = np.zeros((X.shape[1],1))\n",
    "            m = X.shape[0]\n",
    "            J_history = []\n",
    "            for i in range(num_iter):\n",
    "                J_new =  np.mean((X @ self.w - y)**2)\n",
    "                self.w = self.w - alpha*(1/m)* X.T @ (X @ self.w - y) \n",
    "                J_history.append(J_new)\n",
    "            return J_history\n",
    "        else:\n",
    "            raise RuntimeError('Unknown solver')\n",
    "        return\n",
    "    def predict(self, X):\n",
    "        # Add column of ones\n",
    "        X = self.add_ones(X)\n",
    "        # Compute prediction\n",
    "        y_hat = X @ self.w\n",
    "        return y_hat\n",
    "    def cost(self, X, y):\n",
    "        J = (1.0/(X.shape[0]))*np.sum(np.power((self.predict(X)-y), 2))\n",
    "        return J\n",
    "    def rmse(self, X, y):\n",
    "        # Root-mean-square error (RMSE)\n",
    "        E = np.sqrt(self.cost(X,y))\n",
    "        return E"
   ]
  },
  {
   "cell_type": "markdown",
   "metadata": {},
   "source": [
    "Treinamento com o método do gradiente"
   ]
  },
  {
   "cell_type": "code",
   "execution_count": 22,
   "metadata": {},
   "outputs": [
    {
     "name": "stdout",
     "output_type": "stream",
     "text": [
      "w:  [[4.04258570e-06]\n",
      " [1.18183580e-05]\n",
      " [6.61788968e-06]\n",
      " [5.30535880e-03]\n",
      " [1.92909439e-06]]\n",
      "Custo de treinamento:  4.802874307493644\n",
      "Custo de teste:  4.905531011068281\n"
     ]
    }
   ],
   "source": [
    "model = Model()\n",
    "J_hist = model.fit(X_train, y_train, 'gd', 1e-9, 1000)\n",
    "J_train = model.rmse(X_train, y_train)\n",
    "J_test = model.rmse(X_test, y_test)\n",
    "y_hat = model.predict(X)\n",
    "\n",
    "print(\"w: \", model.w)\n",
    "print(\"Custo de treinamento: \",J_train)\n",
    "print(\"Custo de teste: \",J_test)"
   ]
  },
  {
   "cell_type": "markdown",
   "metadata": {},
   "source": [
    "Gráfico Iter x Custo"
   ]
  },
  {
   "cell_type": "code",
   "execution_count": 23,
   "metadata": {},
   "outputs": [
    {
     "data": {
      "text/plain": [
       "Text(0,0.5,'Erro')"
      ]
     },
     "execution_count": 23,
     "metadata": {},
     "output_type": "execute_result"
    },
    {
     "data": {
      "image/png": "[encoded data removed]",
      "text/plain": [
       "<Figure size 432x288 with 1 Axes>"
      ]
     },
     "metadata": {},
     "output_type": "display_data"
    }
   ],
   "source": [
    "x_axis = np.arange(1000)\n",
    "plt.plot(x_axis, J_hist)\n",
    "plt.xlabel('Iteração')\n",
    "plt.ylabel('Erro')"
   ]
  },
  {
   "cell_type": "markdown",
   "metadata": {},
   "source": [
    "Observamos que mesmo ajustando os valores de alpha e aumentando o numero de iterações o custo continua sendo muito maior do que o esperado, convergindo para um número próximo a 20. Isso se deve pelo mal condicionamento das features que causa na dificuldade de convergir pelo método do gradiente com um comportamento de zig-zag. Esse comportamento já era esperado ao observar os gráficos e a grande diferência de magnitude entre X e Y. "
   ]
  },
  {
   "cell_type": "markdown",
   "metadata": {},
   "source": [
    "## Normalização dos atributos"
   ]
  },
  {
   "cell_type": "code",
   "execution_count": 24,
   "metadata": {},
   "outputs": [],
   "source": [
    "class Model():\n",
    "    # Linear regression model\n",
    "    def __init__(self):\n",
    "        # Initialization (optional)\n",
    "        return\n",
    "    def add_ones(self, X):\n",
    "        # Add column of ones\n",
    "        X_new = np.hstack((np.ones_like(X[:,0].reshape(-1,1)), X))\n",
    "        return X_new\n",
    "\n",
    "    # Normalização\n",
    "\n",
    "    def fit_scaler(self, X):\n",
    "        # Compute and store scaler parameters\n",
    "        X_mean = np.mean(X,axis=0)\n",
    "        X_std = np.std(X,axis=0)\n",
    "        self.X_mean = X_mean\n",
    "        self.X_std = X_std\n",
    "        return\n",
    "    \n",
    "    def scale(self, X):\n",
    "        # Scale features\n",
    "        X_new = (X - self.X_mean)/self.X_std\n",
    "        return X_new\n",
    "    \n",
    "    # método do gradiente\n",
    "    \n",
    "    def fit(self, X, y, solver='ne', alpha=1, num_iter=100):\n",
    "        self.fit_scaler(X)\n",
    "        X = self.scale(X)\n",
    "        # Add column of ones\n",
    "        X = self.add_ones(X)\n",
    "        if solver == 'ne':\n",
    "            # Fit linear regression (normal equation)\n",
    "            w = np.linalg.inv(X.T @ X) @ (X.T @ y)\n",
    "            self.w = w\n",
    "            return\n",
    "        elif solver == 'gd':\n",
    "            # Fit linear regression (gradient descent)\n",
    "            # J_history gives a list of values of the cost function for each iteration\n",
    "            self.w = np.zeros((X.shape[1],1))\n",
    "            m = X.shape[0]\n",
    "            J_history = []\n",
    "            for i in range(num_iter):\n",
    "                J_new = np.mean((X @ self.w - y)**2)\n",
    "                self.w = self.w - alpha*(1/m)* X.T @ (X @ self.w - y) \n",
    "                J_history.append(J_new)\n",
    "            return J_history\n",
    "        else:\n",
    "            raise RuntimeError('Unknown solver')\n",
    "        return\n",
    "  \n",
    "\n",
    "    def predict(self, X):\n",
    "        X = self.scale(X)\n",
    "        # Add column of ones\n",
    "        X = self.add_ones(X)\n",
    "        # Compute prediction\n",
    "        y_hat = X @ self.w\n",
    "        return y_hat\n",
    "    def cost(self, X, y):\n",
    "        J = (1.0/(X.shape[0]))*np.sum(np.power((self.predict(X)-y), 2))\n",
    "        return J\n",
    "    def rmse(self, X, y):\n",
    "        # Root-mean-square error (RMSE)\n",
    "        E = np.sqrt(self.cost(X,y))\n",
    "        return E"
   ]
  },
  {
   "cell_type": "code",
   "execution_count": 25,
   "metadata": {},
   "outputs": [
    {
     "name": "stdout",
     "output_type": "stream",
     "text": [
      "w:  [[13.04495685]\n",
      " [-0.06339468]\n",
      " [ 0.03994626]\n",
      " [ 0.37091131]\n",
      " [-0.01679678]]\n",
      "Custo de treinamento:  0.37412803600518374\n",
      "Custo de teste:  0.3708452063040358\n"
     ]
    }
   ],
   "source": [
    "model = Model()\n",
    "J_hist = model.fit(X_train, y_train, 'gd',0.5,200)\n",
    "J_train = model.rmse(X_train, y_train)\n",
    "J_test = model.rmse(X_test, y_test)\n",
    "y_hat = model.predict(X)\n",
    "\n",
    "print(\"w: \", model.w)\n",
    "print(\"Custo de treinamento: \",J_train)\n",
    "print(\"Custo de teste: \",J_test)"
   ]
  },
  {
   "cell_type": "code",
   "execution_count": 26,
   "metadata": {},
   "outputs": [
    {
     "data": {
      "text/plain": [
       "Text(0,0.5,'Erro')"
      ]
     },
     "execution_count": 26,
     "metadata": {},
     "output_type": "execute_result"
    },
    {
     "data": {
      "image/png": "[encoded data removed]",
      "text/plain": [
       "<Figure size 432x288 with 1 Axes>"
      ]
     },
     "metadata": {},
     "output_type": "display_data"
    }
   ],
   "source": [
    "x_axis = np.arange(200)\n",
    "plt.plot(x_axis, J_hist)\n",
    "plt.xlabel('Iteração')\n",
    "plt.ylabel('Erro')"
   ]
  },
  {
   "cell_type": "markdown",
   "metadata": {},
   "source": [
    "Como de esperado pela observação anterior, com a normalização das features a convergência do método do gradiente se deu muito mais rápido e se aproximou ao valor obtido utilizando a equação normal."
   ]
  },
  {
   "cell_type": "markdown",
   "metadata": {},
   "source": [
    "## Adição de atributos"
   ]
  },
  {
   "cell_type": "markdown",
   "metadata": {},
   "source": [
    "Adicionar novas features atráves de nova função na classe Model()"
   ]
  },
  {
   "cell_type": "code",
   "execution_count": 27,
   "metadata": {},
   "outputs": [],
   "source": [
    "class Model():\n",
    "    # Linear regression model\n",
    "    def __init__(self):\n",
    "        # Initialization (optional)\n",
    "        return\n",
    "    def add_ones(self, X):\n",
    "        # Add column of ones\n",
    "        X_new = np.hstack((np.ones_like(X[:,0].reshape(-1,1)), X))\n",
    "        return X_new\n",
    "    def gradient(self, w, X, y):\n",
    "        grad = (1.0/X.shape[0])*(X.T @ ((X @ w) - y))\n",
    "        return grad\n",
    "    def fit_scaler(self, X):\n",
    "        # Compute and store scaler parameters\n",
    "        X_mean = np.mean(X,axis=0)\n",
    "        X_std = np.std(X,axis=0)\n",
    "        self.X_mean = X_mean\n",
    "        self.X_std = X_std\n",
    "        return\n",
    "    def scale(self, X):\n",
    "        # Scale features\n",
    "        X_new = (X - self.X_mean)/self.X_std\n",
    "        return X_new\n",
    "    \n",
    "    # Adição de atributos\n",
    "    \n",
    "    \n",
    "    def add_features(self, X):\n",
    "        # Add new features derived from the original ones\n",
    "        x1 = X[:,2].reshape(-1,1)\n",
    "        x2 = X[:,3].reshape(-1,1)\n",
    "        \n",
    "        x1_new = np.log10(x1)\n",
    "        x2_new = np.log(x2)\n",
    "        \n",
    "        X_new = np.hstack((X,x1_new,x2_new))\n",
    "        return X_new\n",
    "    \n",
    "    \n",
    "    \n",
    "    \n",
    "    def fit(self, X, y, solver='ne', alpha=1, num_iter=100):\n",
    "        self.fit_scaler(X)\n",
    "        X = self.scale(X)\n",
    "        # Add column of ones\n",
    "        X = self.add_ones(X)\n",
    "        if solver == 'ne':\n",
    "            # Fit linear regression (normal equation)\n",
    "            w = np.linalg.inv(X.T @ X) @ (X.T @ y)\n",
    "            self.w = w\n",
    "            return\n",
    "        elif solver == 'gd':\n",
    "            # Fit linear regression (gradient descent)\n",
    "            # J_history gives a list of values of the cost function for each iteration\n",
    "            w = np.random.randn(X.shape[1]).reshape(-1,1)\n",
    "            J_history = np.array([])\n",
    "            for i in range(num_iter):\n",
    "                w_new = w - alpha * self.gradient(w, X, y)\n",
    "                w = w_new\n",
    "                new_cost = (1.0/(2*X.shape[0]))*np.sum(np.power(((X @ w)-y), 2))\n",
    "                J_history = np.append(J_history, new_cost)\n",
    "            self.w = w\n",
    "            return J_history\n",
    "        else:\n",
    "            raise RuntimeError('Unknown solver')\n",
    "        return\n",
    "    def predict(self, X):\n",
    "        X = self.scale(X)\n",
    "        # Add column of ones\n",
    "        X = self.add_ones(X)\n",
    "        # Compute prediction\n",
    "        y_hat = X @ self.w\n",
    "        return y_hat\n",
    "    def cost(self, X, y):\n",
    "        J = (1.0/(2*X.shape[0]))*np.sum(np.power((self.predict(X)-y), 2))\n",
    "        return J\n",
    "    def rmse(self, X, y):\n",
    "        # Root-mean-square error (RMSE)\n",
    "        E = np.sqrt(self.cost(X,y))\n",
    "        return E"
   ]
  },
  {
   "cell_type": "code",
   "execution_count": 28,
   "metadata": {},
   "outputs": [
    {
     "data": {
      "text/plain": [
       "(array([[3.00000000e+00, 1.00000000e+00, 1.18000000e+03, 5.65000000e+03,\n",
       "         3.07188201e+00, 8.63941082e+00],\n",
       "        [3.00000000e+00, 2.25000000e+00, 2.57000000e+03, 7.24200000e+03,\n",
       "         3.40993312e+00, 8.88765269e+00],\n",
       "        [2.00000000e+00, 1.00000000e+00, 7.70000000e+02, 1.00000000e+04,\n",
       "         2.88649073e+00, 9.21034037e+00],\n",
       "        ...,\n",
       "        [2.00000000e+00, 7.50000000e-01, 1.02000000e+03, 1.35000000e+03,\n",
       "         3.00860017e+00, 7.20785987e+00],\n",
       "        [3.00000000e+00, 2.50000000e+00, 1.60000000e+03, 2.38800000e+03,\n",
       "         3.20411998e+00, 7.77821147e+00],\n",
       "        [2.00000000e+00, 7.50000000e-01, 1.02000000e+03, 1.07600000e+03,\n",
       "         3.00860017e+00, 6.98100574e+00]]), (21560, 6))"
      ]
     },
     "execution_count": 28,
     "metadata": {},
     "output_type": "execute_result"
    }
   ],
   "source": [
    "model = Model()\n",
    "X_new = model.add_features(X)\n",
    "X_new, X_new.shape"
   ]
  },
  {
   "cell_type": "code",
   "execution_count": 29,
   "metadata": {},
   "outputs": [
    {
     "name": "stdout",
     "output_type": "stream",
     "text": [
      "w:  [[13.04495685]\n",
      " [-0.06339468]\n",
      " [ 0.03994626]\n",
      " [ 0.37091131]\n",
      " [-0.01679678]]\n",
      "Custo de treinamento:  0.26454847129127024\n",
      "Custo de teste:  0.2622271601481234\n"
     ]
    }
   ],
   "source": [
    "model = Model()\n",
    "J_hist = model.fit(X_train, y_train)\n",
    "J_train = model.rmse(X_train, y_train)\n",
    "J_test = model.rmse(X_test, y_test)\n",
    "y_hat = model.predict(X)\n",
    "\n",
    "print(\"w: \", model.w)\n",
    "print(\"Custo de treinamento: \",J_train)\n",
    "print(\"Custo de teste: \",J_test)"
   ]
  },
  {
   "cell_type": "markdown",
   "metadata": {},
   "source": [
    "Adicionando novas features log x e ln x, devido ao comportamento observado no gráfico, foi possível diminuir o custo de treinamento e teste de 0.37 para 0.26 em ambos os casos."
   ]
  },
  {
   "cell_type": "markdown",
   "metadata": {},
   "source": [
    "## Scikit-learn \n",
    "\n",
    "Refazer o exercício usando a biblioteca scikit-learn"
   ]
  },
  {
   "cell_type": "code",
   "execution_count": 30,
   "metadata": {},
   "outputs": [],
   "source": [
    "from sklearn import model_selection, preprocessing\n",
    "from sklearn.linear_model import LinearRegression, Ridge, RidgeCV\n",
    "from sklearn.pipeline import Pipeline"
   ]
  },
  {
   "cell_type": "code",
   "execution_count": 31,
   "metadata": {
    "scrolled": true
   },
   "outputs": [],
   "source": [
    "X_train, X_test, y_train, y_test = model_selection.train_test_split(X, y, test_size=0.2, random_state=0)"
   ]
  },
  {
   "cell_type": "code",
   "execution_count": 32,
   "metadata": {},
   "outputs": [],
   "source": [
    "clf = LinearRegression()"
   ]
  },
  {
   "cell_type": "code",
   "execution_count": 33,
   "metadata": {},
   "outputs": [
    {
     "data": {
      "text/plain": [
       "LinearRegression(copy_X=True, fit_intercept=True, n_jobs=1, normalize=False)"
      ]
     },
     "execution_count": 33,
     "metadata": {},
     "output_type": "execute_result"
    }
   ],
   "source": [
    "clf.fit(X_train,y_train)"
   ]
  },
  {
   "cell_type": "code",
   "execution_count": 34,
   "metadata": {},
   "outputs": [
    {
     "data": {
      "text/plain": [
       "array([-7.07232711e-02,  5.29682973e-02,  4.19765189e-04, -4.99618651e-07])"
      ]
     },
     "execution_count": 34,
     "metadata": {},
     "output_type": "execute_result"
    }
   ],
   "source": [
    "clf.coef_"
   ]
  },
  {
   "cell_type": "code",
   "execution_count": 35,
   "metadata": {},
   "outputs": [
    {
     "data": {
      "text/plain": [
       "12.308772309997336"
      ]
     },
     "execution_count": 35,
     "metadata": {},
     "output_type": "execute_result"
    }
   ],
   "source": [
    "clf.intercept_"
   ]
  },
  {
   "cell_type": "code",
   "execution_count": 36,
   "metadata": {},
   "outputs": [
    {
     "name": "stdout",
     "output_type": "stream",
     "text": [
      "Accuracy:  0.4887375314552551\n"
     ]
    }
   ],
   "source": [
    "accuracy = clf.score(X_test,y_test)\n",
    "print(\"Accuracy: \", accuracy)"
   ]
  },
  {
   "cell_type": "markdown",
   "metadata": {},
   "source": [
    "### Normalização"
   ]
  },
  {
   "cell_type": "code",
   "execution_count": 37,
   "metadata": {},
   "outputs": [],
   "source": [
    "scaler = preprocessing.StandardScaler()"
   ]
  },
  {
   "cell_type": "code",
   "execution_count": 38,
   "metadata": {},
   "outputs": [],
   "source": [
    "X_train_scaled = scaler.fit_transform(X_train)"
   ]
  },
  {
   "cell_type": "code",
   "execution_count": 39,
   "metadata": {},
   "outputs": [],
   "source": [
    "clf2 = LinearRegression()"
   ]
  },
  {
   "cell_type": "code",
   "execution_count": 40,
   "metadata": {},
   "outputs": [
    {
     "data": {
      "text/plain": [
       "LinearRegression(copy_X=True, fit_intercept=True, n_jobs=1, normalize=False)"
      ]
     },
     "execution_count": 40,
     "metadata": {},
     "output_type": "execute_result"
    }
   ],
   "source": [
    "clf2.fit(X_train_scaled,y_train)"
   ]
  },
  {
   "cell_type": "code",
   "execution_count": 41,
   "metadata": {},
   "outputs": [
    {
     "data": {
      "text/plain": [
       "array([-0.06339468,  0.03994626,  0.37091131, -0.01679678])"
      ]
     },
     "execution_count": 41,
     "metadata": {},
     "output_type": "execute_result"
    }
   ],
   "source": [
    "clf2.coef_"
   ]
  },
  {
   "cell_type": "code",
   "execution_count": 42,
   "metadata": {},
   "outputs": [
    {
     "data": {
      "text/plain": [
       "13.0449568541302"
      ]
     },
     "execution_count": 42,
     "metadata": {},
     "output_type": "execute_result"
    }
   ],
   "source": [
    "clf2.intercept_"
   ]
  },
  {
   "cell_type": "code",
   "execution_count": 43,
   "metadata": {},
   "outputs": [
    {
     "name": "stdout",
     "output_type": "stream",
     "text": [
      "Accuracy:  -2256605.1752355383\n"
     ]
    }
   ],
   "source": [
    "accuracy = clf2.score(X_test,y_test)\n",
    "print(\"Accuracy: \", accuracy)"
   ]
  },
  {
   "cell_type": "markdown",
   "metadata": {},
   "source": [
    "### Ridge"
   ]
  },
  {
   "cell_type": "code",
   "execution_count": 44,
   "metadata": {},
   "outputs": [],
   "source": [
    "clf3 = Ridge() "
   ]
  },
  {
   "cell_type": "code",
   "execution_count": 45,
   "metadata": {
    "scrolled": true
   },
   "outputs": [
    {
     "data": {
      "text/plain": [
       "Ridge(alpha=1.0, copy_X=True, fit_intercept=True, max_iter=None,\n",
       "   normalize=False, random_state=None, solver='auto', tol=0.001)"
      ]
     },
     "execution_count": 45,
     "metadata": {},
     "output_type": "execute_result"
    }
   ],
   "source": [
    "clf3.fit(X_train,y_train)"
   ]
  },
  {
   "cell_type": "code",
   "execution_count": 46,
   "metadata": {},
   "outputs": [
    {
     "data": {
      "text/plain": [
       "array([-7.07140041e-02,  5.29540951e-02,  4.19768703e-04, -4.99617188e-07])"
      ]
     },
     "execution_count": 46,
     "metadata": {},
     "output_type": "execute_result"
    }
   ],
   "source": [
    "clf3.coef_"
   ]
  },
  {
   "cell_type": "code",
   "execution_count": 47,
   "metadata": {},
   "outputs": [
    {
     "data": {
      "text/plain": [
       "12.308763744167246"
      ]
     },
     "execution_count": 47,
     "metadata": {},
     "output_type": "execute_result"
    }
   ],
   "source": [
    "clf3.intercept_"
   ]
  },
  {
   "cell_type": "code",
   "execution_count": 48,
   "metadata": {},
   "outputs": [
    {
     "name": "stdout",
     "output_type": "stream",
     "text": [
      "Accuracy:  0.4887384038608822\n"
     ]
    }
   ],
   "source": [
    "accuracy = clf3.score(X_test,y_test)\n",
    "print(\"Accuracy: \", accuracy)"
   ]
  },
  {
   "cell_type": "markdown",
   "metadata": {},
   "source": [
    "### RidgeCV"
   ]
  },
  {
   "cell_type": "code",
   "execution_count": 49,
   "metadata": {},
   "outputs": [],
   "source": [
    "clf4 = RidgeCV() "
   ]
  },
  {
   "cell_type": "code",
   "execution_count": 50,
   "metadata": {},
   "outputs": [
    {
     "data": {
      "text/plain": [
       "RidgeCV(alphas=(0.1, 1.0, 10.0), cv=None, fit_intercept=True, gcv_mode=None,\n",
       "    normalize=False, scoring=None, store_cv_values=False)"
      ]
     },
     "execution_count": 50,
     "metadata": {},
     "output_type": "execute_result"
    }
   ],
   "source": [
    "clf4.fit(X_train,y_train)"
   ]
  },
  {
   "cell_type": "code",
   "execution_count": 51,
   "metadata": {},
   "outputs": [
    {
     "data": {
      "text/plain": [
       "array([-7.06307252e-02,  5.28265974e-02,  4.19810449e-04, -4.64380719e-07])"
      ]
     },
     "execution_count": 51,
     "metadata": {},
     "output_type": "execute_result"
    }
   ],
   "source": [
    "clf4.coef_"
   ]
  },
  {
   "cell_type": "code",
   "execution_count": 52,
   "metadata": {},
   "outputs": [
    {
     "data": {
      "text/plain": [
       "12.308152978310996"
      ]
     },
     "execution_count": 52,
     "metadata": {},
     "output_type": "execute_result"
    }
   ],
   "source": [
    "clf4.intercept_"
   ]
  },
  {
   "cell_type": "code",
   "execution_count": 53,
   "metadata": {},
   "outputs": [
    {
     "data": {
      "text/plain": [
       "10.0"
      ]
     },
     "execution_count": 53,
     "metadata": {},
     "output_type": "execute_result"
    }
   ],
   "source": [
    "clf4.alpha_"
   ]
  },
  {
   "cell_type": "code",
   "execution_count": 54,
   "metadata": {},
   "outputs": [
    {
     "name": "stdout",
     "output_type": "stream",
     "text": [
      "Accuracy:  0.48872380270959226\n"
     ]
    }
   ],
   "source": [
    "accuracy = clf4.score(X_test,y_test)\n",
    "print(\"Accuracy: \", accuracy)"
   ]
  }
 ],
 "metadata": {
  "kernelspec": {
   "display_name": "Python 3",
   "language": "python",
   "name": "python3"
  },
  "language_info": {
   "codemirror_mode": {
    "name": "ipython",
    "version": 3
   },
   "file_extension": ".py",
   "mimetype": "text/x-python",
   "name": "python",
   "nbconvert_exporter": "python",
   "pygments_lexer": "ipython3",
   "version": "3.6.6rc1"
  }
 },
 "nbformat": 4,
 "nbformat_minor": 2
}
