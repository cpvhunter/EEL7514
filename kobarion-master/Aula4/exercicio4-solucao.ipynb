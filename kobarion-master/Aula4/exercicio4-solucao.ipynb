{
 "cells": [
  {
   "cell_type": "markdown",
   "metadata": {},
   "source": [
    "Universidade Federal de Santa Catarina<br>\n",
    "Departamento de Engenharia Elétrica e Eletrônica<br>\n",
    "EEL7514/EEL7513 - Introdução ao Aprendizado de Máquina\n",
    "\n",
    "**Aluno:** Rodrigo Kobashikawa Rosa<br>\n",
    "**Matrícula:** 14201073\n",
    "$\\newcommand{\\bX}{\\mathbf{X}}$\n",
    "$\\newcommand{\\bw}{\\mathbf{w}}$\n",
    "$\\newcommand{\\by}{\\mathbf{y}}$\n",
    "$\\newcommand{\\bx}{\\mathbf{x}}$\n",
    "$\\newcommand{\\RR}{\\mathbb{R}}$\n",
    "\n",
    "\n",
    "# Exercício 4: Regressão Logística\n",
    "\n",
    "Neste exercício você irá implementar um classificador por regressão logística e aplicá-lo em diversos conjuntos de dados."
   ]
  },
  {
   "cell_type": "markdown",
   "metadata": {},
   "source": [
    "```python\n",
    "import pandas as pd\n",
    "import numpy as np\n",
    "import matplotlib.pyplot as plt\n",
    "%matplotlib inline\n",
    "from scipy.optimize import minimize\n",
    "from sklearn.model_selection import train_test_split\n",
    "\n",
    "def plot_data(X, y):\n",
    "    ''' Plot 2-D binary dataset '''\n",
    "    plt.plot(X[y!=1,0],X[y!=1,1],'bo',X[y==1,0],X[y==1,1],'rx')\n",
    "\n",
    "def plot_boundary(decision_function, X, N=100):\n",
    "    ''' Plot boundary for a 2-D binary classifier '''\n",
    "    x1 = np.linspace(X[:,0].min(), X[:,0].max(), N)\n",
    "    x2 = np.linspace(X[:,1].min(), X[:,1].max(), N)\n",
    "    xx1, xx2 = np.meshgrid(x1, x2)\n",
    "    X = np.c_[xx1.reshape(-1), xx2.reshape(-1)]\n",
    "    z = decision_function(X).reshape(xx1.shape)\n",
    "    plt.contourf(xx1,xx2,np.sign(z),cmap=plt.cm.bwr,vmin=-3,vmax=3)\n",
    "    plt.contour(xx1,xx2,z,cmap=plt.cm.gray,vmin=np.inf,vmax=np.inf,levels=[0])\n",
    "```"
   ]
  },
  {
   "cell_type": "markdown",
   "metadata": {},
   "source": [
    "# Conjunto de dados #1\n",
    "\n",
    "O primeiro conjunto de dados que usaremos, disponibilizado no arquivo `grades.csv`, fornece a pontuação de alunos em dois exames e a decisão se o aluno é aceito em uma universidade. Particione o conjunto de dados em treinamento e teste através do comando:\n",
    "\n",
    "```python\n",
    "X_train, X_test, y_train, y_test = train_test_split(X, y, test_size=100, random_state=0)\n",
    "```\n",
    "\n",
    "e trace o gráfico do **conjunto de treinamento** usando a função `plot_data` fornecida.\n",
    "\n",
    "O seu objetivo é treinar um classificador linear por regressão logística que prevê a decisão de aceitação em função das notas nos dois exames."
   ]
  },
  {
   "cell_type": "code",
   "execution_count": null,
   "metadata": {},
   "outputs": [],
   "source": []
  },
  {
   "cell_type": "markdown",
   "metadata": {},
   "source": [
    "## Implementação do classificador\n",
    "\n",
    "- Organize suas funções em uma classe do Python, conforme dada abaixo. Note que a função `fit` já está completa, bastando implementar as demais.\n",
    "\n",
    "- Para efetuar a otimização, usaremos o otimizador do SciPy (função `minimize`), o que, além de implementar métodos mais eficientes que o método do gradiente, possui a vantagem de não precisarmos escolher a taxa de aprendizagem. Além disso, o método padrão (BFGS, para otimização sem restrição) é robusto à escala dos atributos, não sendo necessário realizar normalização de atributos.\n",
    "\n",
    "- A função `minimize` requer a função objetivo da otimização (`fun`), um ponto inicial (`x0`) e, opcionalmente, uma função que calcula o gradiente (`jac`). A configuração `jac=True` indica que o gradient será passado como segundo elemento de saída da função `fun`. Isto é especialmente conveniente quando o cálculo do custo e do gradiente compartilham algumas operações. Quaisquer argumentos subsequentes para `fun` (e `jac`) devem ser passados como `args`. Assim, para completar a implementação do treinamento, basta implementar a função `fobj` retornando custo e gradiente. Note que esta função tem como entrada uma variável `w`, i.e., o ponto que será testado pelo otimizador a cada iteração. O vetor de pesos do modelo só é criado após o treinamento e armazenado em `self.w`.\n",
    "\n",
    "- O otimizador do SciPy trabalha apenas com arrays 1-D. Assim, certifique-se que suas funções aceitam que `w` seja um array 1-D.\n",
    "\n",
    "- A função `decision_function` retorna o discriminante que é comparado com zero para realizar a classificação. A função sigmóide logística é utilizada somente no treinamento.\n",
    "\n",
    "- Para evitar problemas numéricos na implementação da sigmóide, você pode usar `np.clip` ou `np.tanh`.\n",
    "- Para garantir a consistência com a notação utilizada em sala, use `y_hat` para denotar a predição não-quantizada ($\\hat{y} = \\sigma(z) \\in [0,1] \\subseteq \\RR$) e `y_pred` para denotar a predição do rótulo da classe ($y_{pred} \\in \\{0,1\\}$)."
   ]
  },
  {
   "cell_type": "markdown",
   "metadata": {},
   "source": [
    "```python\n",
    "def sigmoid(z):\n",
    "    return s\n",
    "\n",
    "class Model():\n",
    "    ''' Logistic regression model '''\n",
    "    def add_ones(self, X):\n",
    "        ''' Add column of ones '''\n",
    "        return X_new\n",
    "    def fobj(self, w, X, y):\n",
    "        ''' Compute cost and gradient for optimization '''\n",
    "        return J, grad\n",
    "    def fit(self, X, y):\n",
    "        ''' Fit the model according to the given training data '''\n",
    "        X = self.add_ones(X)\n",
    "        self.w = minimize(fun=self.fobj, x0=np.zeros(X.shape[1]), jac=True, args=(X,y)).x\n",
    "        return\n",
    "    def decision_function(self, X):\n",
    "        ''' Predict confidence score (discriminant) z = f(x) = w^T x'''\n",
    "        return z\n",
    "    def predict(self, X):\n",
    "        ''' Predict class label (0 or 1) '''\n",
    "        return y_pred\n",
    "    def accuracy(self, X, y):\n",
    "        ''' Return the mean accuracy '''\n",
    "        return acc\n",
    "```"
   ]
  },
  {
   "cell_type": "markdown",
   "metadata": {},
   "source": [
    "## Treinamento\n",
    "\n",
    "Treine o classificador e trace um gráfico mostrando o conjunto de treinamento e as regiões de decisão do classificador. Para isto, utilize a função `plot_boundary` fornecida:\n",
    "\n",
    "```python\n",
    "plot_boundary(model.decision_function,X_train)\n",
    "```\n",
    "\n",
    "onde `model` corresponde ao modelo treinado.\n",
    "\n",
    "Reporte também a acurácia (= # de classificações certas / tamanho do conjunto) em ambos os conjuntos."
   ]
  },
  {
   "cell_type": "code",
   "execution_count": null,
   "metadata": {},
   "outputs": [],
   "source": []
  },
  {
   "cell_type": "markdown",
   "metadata": {},
   "source": [
    "## Adição de atributos\n",
    "\n",
    "Adicione mais atributos e repita o item anterior até obter 100% de acerto no conjunto de treinamento. Para isso introduza uma função `add_features` e utilize-a nos locais apropriados, como no Exercício 3.\n",
    "\n",
    "Enquanto estiver adicionando atributos, **não avalie o desempenho no conjunto de teste**, somente quando tiver finalizado a definição do modelo. É útil interpretar o conjunto de teste como um recurso finito, que deve ser usado apenas esporadicamente, para evitar overfitting.\n",
    "\n",
    "O que você pode concluir dos resultados obtidos?"
   ]
  },
  {
   "cell_type": "markdown",
   "metadata": {},
   "source": [
    "# Conjuntos de dados #2\n",
    "\n",
    "O próximo conjunto de dados que usaremos é sintético, gerado pelos comandos abaixo."
   ]
  },
  {
   "cell_type": "markdown",
   "metadata": {},
   "source": [
    "```python\n",
    "from sklearn.datasets import make_circles\n",
    "X, y = make_circles(n_samples=1200, noise=0.28, factor=0, random_state=0)\n",
    "X_train, X_test, y_train, y_test = train_test_split(X, y, test_size=1000, random_state=0)\n",
    "plot_data(X_train,y_train)\n",
    "```"
   ]
  },
  {
   "cell_type": "markdown",
   "metadata": {},
   "source": [
    "Note que estamos utilizando um conjunto de teste com 1000 amostras, muito maior do que o conjunto de treinamento, com 200 amostras. A motivação é proporcionar uma medida confiável de desempenho através do conjunto de teste e ao mesmo tempo ilustrar a ocorrência de overfitting em um conjunto de treinamento pequeno."
   ]
  },
  {
   "cell_type": "markdown",
   "metadata": {},
   "source": [
    "## Treinamento\n",
    "\n",
    "Inicialmente, treine o classificador **sem adição de atributos** e meça a acurácia no conjunto de treinamento. Assim como antes, evite medir a acurácia no conjunto de teste. Nessa etapa, o objetivo é simplesmente obter uma boa representação do conjunto de treinamento.\n",
    "\n",
    "O que você observa? Explique."
   ]
  },
  {
   "cell_type": "markdown",
   "metadata": {},
   "source": [
    "## Adição de atributos\n",
    "\n",
    "Repita o item anterior adicionando atributos polinomiais, incluindo termos cruzados, até obter 100% de acerto no conjunto de treinamento. Em particular, a função `add_features` deve introduzir automaticamente todos os termos polinomiais com grau até $d$, i.e.,\n",
    "\n",
    "$$\n",
    "x_1, x_2, x_1^2, x_1 x_2, x_2^2, x_1^3, x_1^2 x_2, x_1 x_2^2, x_2^3, \\ldots\n",
    "$$\n",
    "\n",
    "onde $d$ é um parâmetro especificado na inicialização do modelo. Para isso, adicione a função\n",
    "\n",
    "```python\n",
    "def __init__(self, d=1):\n",
    "    ''' Initialization '''\n",
    "    self.d = d\n",
    "    return\n",
    "```\n",
    "\n",
    "à classe do modelo e o instancie com `model = Model(d)`.\n",
    "\n",
    "Analise as regiões de decisão obtidas à medida que o grau `d` aumenta e explique o que você observa. Ao final (i.e., ao obter o menor grau que proporciona 100% de acurácia de treinamento), meça a acurácia de teste. O que ocorre? Explique."
   ]
  },
  {
   "cell_type": "markdown",
   "metadata": {},
   "source": [
    "## Regularização\n",
    "\n",
    "Introduza regularização L2 no treinamento, com parâmetro de regularização `lamb` ($\\lambda$). Para isso, altere as funções `fobj` e `fit` adicionando um argumento `lamb=0` (ou, se preferir, defina `lamb` na inicialização do modelo).\n",
    "\n",
    "Mantendo o mesmo grau $d$ obtido no item anterior, ajuste o parâmetro de regularização e verifique qualitativamente a variação das regiões de decisão, bem como da acurácia de treinamento. Após encontrar um valor de $\\lambda$ que pareça razoável, meça a acurácia de teste. Discuta o que você observou."
   ]
  },
  {
   "cell_type": "markdown",
   "metadata": {},
   "source": [
    "# Conjuntos de dados #3\n",
    "\n",
    "O próximo conjunto de dados é gerado pelos comandos abaixo."
   ]
  },
  {
   "cell_type": "markdown",
   "metadata": {},
   "source": [
    "```python\n",
    "from sklearn.datasets import make_moons\n",
    "X, y = make_moons(n_samples=1200, noise=0.25, random_state=0)\n",
    "X_train, X_test, y_train, y_test = train_test_split(X, y, test_size=1000, random_state=0)\n",
    "plot_data(X_train,y_train)\n",
    "```"
   ]
  },
  {
   "cell_type": "markdown",
   "metadata": {},
   "source": [
    "Repita todas as etapas da seção anterior (conjunto #2) para este novo conjunto de dados."
   ]
  },
  {
   "cell_type": "markdown",
   "metadata": {},
   "source": [
    "# (OPCIONAL) Busca por hiperparâmetros\n",
    "\n",
    "Para os conjuntos #2 e #3, realize uma busca melhor melhor valor de $\\lambda$, utilizando como métrica a acurácia no conjunto de teste. Se desejar, realize também a busca conjunta pelo melhor valor de $d$.\n",
    "\n",
    "Note que os parâmetros $d$ e $\\lambda$ são definidos pelo desenvolvedor do modelo e não são alterados durante o treinamento, i.e., não podem ser aprendidos a partir dos dados. Por esse motivo, são chamados de **hiperparâmetros**, para distingui-los dos parâmetros sujeitos a treinamento.\n",
    "\n",
    "**Obs:** em geral, deve-se evitar fazer a busca de hiperparâmetros no conjunto de teste, pois podemos estar causando overfitting nesse conjunto, e a medida de desempenho resultante não seria mais confiável. É recomendável usar o conjunto de teste somente na avaliação final do modelo. Para isto, podemos separar parte do conjunto de treinamento para utilizar como **conjunto de validação**, usando para treinamento somente as amostras restantes. Este método de validação é conhecido como **hold-out**. Existem também outros métodos mais sofisticados de validação cruzada que realizam múltiplas seleções distintas do conjunto de validação e calculam a média do desempenho obtido, o que é útil quando o conjunto de treinamento é pequeno.\n",
    "\n",
    "<!-->Neste exercício, o efeito de overfitting na busca por hiperparâmetros tende a ser pequeno, uma vez que o conjunto de teste é grande em relação à dimensionalidade do problema. Mas, caso deseje realizar a busca de hiperparâmetros sobre um conjunto de validação, sem alterar o conjunto de treinamento, você pode separar 50% das amostras do conjunto de teste.<-->"
   ]
  },
  {
   "cell_type": "markdown",
   "metadata": {},
   "source": [
    "# Conjunto de dados #4\n",
    "\n",
    "O último conjunto de dados que usaremos pode ser encontrado aqui:\n",
    "\n",
    "https://www.kaggle.com/uciml/iris/data\n",
    "\n",
    "O objetivo é implementar um classificador para classificar entre três tipos de plantas, i.e., trata-se de um problema de classificação multi-classe. O conjunto de dados é pequeno (relativamente à dimensão do problema) e o objetivo do exercício é apenas ilustrar a classificação multi-classe. Assim, utilize todo o conjunto de dados como conjunto de treinamento.\n",
    "\n",
    "Implemente apenas regressão logística sem regularização com os atributos originais, e reporte a taxa de acerto.\n",
    "\n",
    "**Dica:** a classificação multi-classe pode ser implementada utilizando-se $K$ classificadores binários distintos, cada um treinado sobre um conjunto de dados com variável de saída $y_k$, correspondente ao $k$-ésimo elemento do vetor resultante da codificação one-hot do rótulo da classe, $y = (y_1,\\ldots,y_K)$. Nesse caso, escolhe-se como predição a classe que possui maior valor de discriminante, obtido pela função `decision_function`."
   ]
  },
  {
   "cell_type": "markdown",
   "metadata": {},
   "source": [
    "---"
   ]
  },
  {
   "cell_type": "markdown",
   "metadata": {},
   "source": [
    "# Resolução do exercício 4"
   ]
  },
  {
   "cell_type": "markdown",
   "metadata": {},
   "source": [
    "## Bibliotecas"
   ]
  },
  {
   "cell_type": "code",
   "execution_count": 1,
   "metadata": {},
   "outputs": [],
   "source": [
    "import pandas as pd\n",
    "import numpy as np\n",
    "import matplotlib.pyplot as plt\n",
    "%matplotlib inline\n",
    "from scipy.optimize import minimize\n",
    "from scipy.special import expit\n",
    "from sklearn.model_selection import train_test_split"
   ]
  },
  {
   "cell_type": "markdown",
   "metadata": {},
   "source": [
    "## Plot functions"
   ]
  },
  {
   "cell_type": "code",
   "execution_count": 2,
   "metadata": {},
   "outputs": [],
   "source": [
    "def plot_data(X, y):\n",
    "    ''' Plot 2-D binary dataset '''\n",
    "    plt.plot(X[y!=1,0],X[y!=1,1],'bo',X[y==1,0],X[y==1,1],'rx')\n",
    "\n",
    "def plot_boundary(decision_function, X, N=100):\n",
    "    ''' Plot boundary for a 2-D binary classifier '''\n",
    "    x1 = np.linspace(X[:,0].min(), X[:,0].max(), N)\n",
    "    x2 = np.linspace(X[:,1].min(), X[:,1].max(), N)\n",
    "    xx1, xx2 = np.meshgrid(x1, x2)\n",
    "    X = np.c_[xx1.reshape(-1), xx2.reshape(-1)]\n",
    "    z = decision_function(X).reshape(xx1.shape)\n",
    "    plt.contourf(xx1,xx2,np.sign(z),cmap=plt.cm.bwr,vmin=-3,vmax=3)\n",
    "    plt.contour(xx1,xx2,z,cmap=plt.cm.gray,vmin=np.inf,vmax=np.inf,levels=[0])"
   ]
  },
  {
   "cell_type": "markdown",
   "metadata": {},
   "source": [
    "## Conjunto de dados #1"
   ]
  },
  {
   "cell_type": "code",
   "execution_count": 3,
   "metadata": {},
   "outputs": [
    {
     "data": {
      "text/html": [
       "<div>\n",
       "<style scoped>\n",
       "    .dataframe tbody tr th:only-of-type {\n",
       "        vertical-align: middle;\n",
       "    }\n",
       "\n",
       "    .dataframe tbody tr th {\n",
       "        vertical-align: top;\n",
       "    }\n",
       "\n",
       "    .dataframe thead th {\n",
       "        text-align: right;\n",
       "    }\n",
       "</style>\n",
       "<table border=\"1\" class=\"dataframe\">\n",
       "  <thead>\n",
       "    <tr style=\"text-align: right;\">\n",
       "      <th></th>\n",
       "      <th>Exam 1</th>\n",
       "      <th>Exam 2</th>\n",
       "      <th>Admitted</th>\n",
       "    </tr>\n",
       "  </thead>\n",
       "  <tbody>\n",
       "    <tr>\n",
       "      <th>0</th>\n",
       "      <td>6.9</td>\n",
       "      <td>8.0</td>\n",
       "      <td>1</td>\n",
       "    </tr>\n",
       "    <tr>\n",
       "      <th>1</th>\n",
       "      <td>5.0</td>\n",
       "      <td>6.6</td>\n",
       "      <td>1</td>\n",
       "    </tr>\n",
       "    <tr>\n",
       "      <th>2</th>\n",
       "      <td>9.3</td>\n",
       "      <td>9.3</td>\n",
       "      <td>1</td>\n",
       "    </tr>\n",
       "    <tr>\n",
       "      <th>3</th>\n",
       "      <td>3.9</td>\n",
       "      <td>4.5</td>\n",
       "      <td>0</td>\n",
       "    </tr>\n",
       "    <tr>\n",
       "      <th>4</th>\n",
       "      <td>3.4</td>\n",
       "      <td>6.1</td>\n",
       "      <td>0</td>\n",
       "    </tr>\n",
       "  </tbody>\n",
       "</table>\n",
       "</div>"
      ],
      "text/plain": [
       "   Exam 1  Exam 2  Admitted\n",
       "0     6.9     8.0         1\n",
       "1     5.0     6.6         1\n",
       "2     9.3     9.3         1\n",
       "3     3.9     4.5         0\n",
       "4     3.4     6.1         0"
      ]
     },
     "execution_count": 3,
     "metadata": {},
     "output_type": "execute_result"
    }
   ],
   "source": [
    "df = pd.read_csv('data/grades.csv')\n",
    "\n",
    "df.head()"
   ]
  },
  {
   "cell_type": "code",
   "execution_count": 4,
   "metadata": {
    "scrolled": true
   },
   "outputs": [
    {
     "name": "stdout",
     "output_type": "stream",
     "text": [
      "<class 'pandas.core.frame.DataFrame'>\n",
      "RangeIndex: 300 entries, 0 to 299\n",
      "Data columns (total 3 columns):\n",
      "Exam 1      300 non-null float64\n",
      "Exam 2      300 non-null float64\n",
      "Admitted    300 non-null int64\n",
      "dtypes: float64(2), int64(1)\n",
      "memory usage: 7.1 KB\n"
     ]
    }
   ],
   "source": [
    "df.info()"
   ]
  },
  {
   "cell_type": "code",
   "execution_count": 5,
   "metadata": {},
   "outputs": [
    {
     "data": {
      "text/html": [
       "<div>\n",
       "<style scoped>\n",
       "    .dataframe tbody tr th:only-of-type {\n",
       "        vertical-align: middle;\n",
       "    }\n",
       "\n",
       "    .dataframe tbody tr th {\n",
       "        vertical-align: top;\n",
       "    }\n",
       "\n",
       "    .dataframe thead th {\n",
       "        text-align: right;\n",
       "    }\n",
       "</style>\n",
       "<table border=\"1\" class=\"dataframe\">\n",
       "  <thead>\n",
       "    <tr style=\"text-align: right;\">\n",
       "      <th></th>\n",
       "      <th>Exam 1</th>\n",
       "      <th>Exam 2</th>\n",
       "      <th>Admitted</th>\n",
       "    </tr>\n",
       "  </thead>\n",
       "  <tbody>\n",
       "    <tr>\n",
       "      <th>count</th>\n",
       "      <td>300.000000</td>\n",
       "      <td>300.000000</td>\n",
       "      <td>300.000000</td>\n",
       "    </tr>\n",
       "    <tr>\n",
       "      <th>mean</th>\n",
       "      <td>6.507000</td>\n",
       "      <td>6.416000</td>\n",
       "      <td>0.576667</td>\n",
       "    </tr>\n",
       "    <tr>\n",
       "      <th>std</th>\n",
       "      <td>2.021337</td>\n",
       "      <td>1.959134</td>\n",
       "      <td>0.494913</td>\n",
       "    </tr>\n",
       "    <tr>\n",
       "      <th>min</th>\n",
       "      <td>3.000000</td>\n",
       "      <td>3.000000</td>\n",
       "      <td>0.000000</td>\n",
       "    </tr>\n",
       "    <tr>\n",
       "      <th>25%</th>\n",
       "      <td>4.875000</td>\n",
       "      <td>4.700000</td>\n",
       "      <td>0.000000</td>\n",
       "    </tr>\n",
       "    <tr>\n",
       "      <th>50%</th>\n",
       "      <td>6.500000</td>\n",
       "      <td>6.400000</td>\n",
       "      <td>1.000000</td>\n",
       "    </tr>\n",
       "    <tr>\n",
       "      <th>75%</th>\n",
       "      <td>8.125000</td>\n",
       "      <td>8.100000</td>\n",
       "      <td>1.000000</td>\n",
       "    </tr>\n",
       "    <tr>\n",
       "      <th>max</th>\n",
       "      <td>10.000000</td>\n",
       "      <td>10.000000</td>\n",
       "      <td>1.000000</td>\n",
       "    </tr>\n",
       "  </tbody>\n",
       "</table>\n",
       "</div>"
      ],
      "text/plain": [
       "           Exam 1      Exam 2    Admitted\n",
       "count  300.000000  300.000000  300.000000\n",
       "mean     6.507000    6.416000    0.576667\n",
       "std      2.021337    1.959134    0.494913\n",
       "min      3.000000    3.000000    0.000000\n",
       "25%      4.875000    4.700000    0.000000\n",
       "50%      6.500000    6.400000    1.000000\n",
       "75%      8.125000    8.100000    1.000000\n",
       "max     10.000000   10.000000    1.000000"
      ]
     },
     "execution_count": 5,
     "metadata": {},
     "output_type": "execute_result"
    }
   ],
   "source": [
    "df.describe()"
   ]
  },
  {
   "cell_type": "code",
   "execution_count": 6,
   "metadata": {},
   "outputs": [
    {
     "data": {
      "text/plain": [
       "((300, 2), (300,))"
      ]
     },
     "execution_count": 6,
     "metadata": {},
     "output_type": "execute_result"
    }
   ],
   "source": [
    "X = df[['Exam 1', 'Exam 2']].values\n",
    "\n",
    "y = df['Admitted'].values\n",
    "\n",
    "X.shape, y.shape"
   ]
  },
  {
   "cell_type": "code",
   "execution_count": 7,
   "metadata": {},
   "outputs": [],
   "source": [
    "X_train, X_test, y_train, y_test = train_test_split(X, y, test_size=100, random_state=0)"
   ]
  },
  {
   "cell_type": "code",
   "execution_count": 8,
   "metadata": {},
   "outputs": [
    {
     "data": {
      "text/plain": [
       "((200, 2), (200,), (100, 2), (100,))"
      ]
     },
     "execution_count": 8,
     "metadata": {},
     "output_type": "execute_result"
    }
   ],
   "source": [
    "X_train.shape, y_train.shape, X_test.shape, y_test.shape"
   ]
  },
  {
   "cell_type": "markdown",
   "metadata": {},
   "source": [
    "Gráfico do conjunto de treinamento"
   ]
  },
  {
   "cell_type": "code",
   "execution_count": 9,
   "metadata": {
    "scrolled": true
   },
   "outputs": [
    {
     "data": {
      "image/png": "[encoded data removed]",
      "text/plain": [
       "<Figure size 432x288 with 1 Axes>"
      ]
     },
     "metadata": {},
     "output_type": "display_data"
    }
   ],
   "source": [
    "plot_data(X_train,y_train)"
   ]
  },
  {
   "cell_type": "markdown",
   "metadata": {},
   "source": [
    "### Implementação do classificador"
   ]
  },
  {
   "cell_type": "code",
   "execution_count": 10,
   "metadata": {},
   "outputs": [],
   "source": [
    "def sigmoid(z):\n",
    "#     s = np.exp(-np.logaddexp(0, -z)) # 1 / (1 + np.exp(-z)) \n",
    "    s = expit(z)\n",
    "#     s = .5 * (np.tanh(.5 * z) + 1)\n",
    "    return s\n",
    "\n",
    "class Model():\n",
    "    ''' Logistic regression model '''\n",
    "    def __init__(self, d=1,lamb=0,cross_terms=False):\n",
    "        ''' Initialization '''\n",
    "        self.d = d\n",
    "        self.cross_terms = cross_terms\n",
    "        self.lamb = lamb\n",
    "        return\n",
    "\n",
    "    def add_ones(self, X):\n",
    "        ''' Add column of ones '''\n",
    "        X_new = np.hstack((np.ones_like(X[:,0].reshape(-1,1)), X))\n",
    "        return X_new\n",
    "    \n",
    "    def fobj(self, w, X, y):\n",
    "        ''' Compute cost and gradient for optimization '''\n",
    "        m = y.shape[0]\n",
    "        y_hat = sigmoid(X @ w)\n",
    "        # Cost function\n",
    "        J = (-1/m)*(y.T @ np.log(y_hat) + (1-y).T @ np.log(1 - y_hat))   \n",
    "        # Grad function\n",
    "        grad = (1/m)*(X.T @ (sigmoid(X @ w) - y))\n",
    "        return J, grad\n",
    "    \n",
    "    def fit(self, X, y):\n",
    "        ''' Fit the model according to the given training data '''\n",
    "        X = self.add_ones(X)\n",
    "        self.w = minimize(fun=self.fobj, x0=np.zeros(X.shape[1]), jac=True, args=(X,y)).x\n",
    "        return\n",
    "    \n",
    "    def decision_function(self, X):\n",
    "        ''' Predict confidence score (discriminant) z = f(x) = w^T x'''\n",
    "        X = self.add_ones(X)\n",
    "        z = X @ self.w\n",
    "        return z\n",
    "    \n",
    "    def predict(self, X):\n",
    "        ''' Predict class label (0 or 1) '''\n",
    "        y_pred = self.decision_function(X)>0\n",
    "        return y_pred\n",
    "    \n",
    "    def accuracy(self, X, y):\n",
    "        ''' Return the mean accuracy '''\n",
    "        y_pred = self.predict(X)\n",
    "        correct = list((y_pred == y)).count(True)\n",
    "        acc = correct/len(y)\n",
    "        return acc"
   ]
  },
  {
   "cell_type": "markdown",
   "metadata": {},
   "source": [
    "### Treinamento"
   ]
  },
  {
   "cell_type": "code",
   "execution_count": 11,
   "metadata": {},
   "outputs": [
    {
     "name": "stdout",
     "output_type": "stream",
     "text": [
      "w:  [-25.73110236   1.74545624   2.40749431]\n",
      "Accuracy:  89.0 %\n",
      "Train accuracy:  90.0 %\n",
      "Test accuracy:  87.0 %\n"
     ]
    },
    {
     "data": {
      "image/png": "[encoded data removed]",
      "text/plain": [
       "<Figure size 432x288 with 1 Axes>"
      ]
     },
     "metadata": {},
     "output_type": "display_data"
    }
   ],
   "source": [
    "model = Model()\n",
    "model.fit(X_train,y_train)\n",
    "w = model.w\n",
    "acc = model.accuracy(X,y)\n",
    "acc_train = model.accuracy(X_train,y_train)\n",
    "acc_test = model.accuracy(X_test, y_test)\n",
    "\n",
    "print(\"w: \", w)\n",
    "print(\"Accuracy: \", acc*100 ,\"%\")\n",
    "print(\"Train accuracy: \", acc_train*100, \"%\")\n",
    "print(\"Test accuracy: \", acc_test*100, \"%\")\n",
    "\n",
    "plot_data(X_train,y_train)\n",
    "plot_boundary(model.decision_function ,X_train)"
   ]
  },
  {
   "cell_type": "markdown",
   "metadata": {},
   "source": [
    "### Adição de atributos"
   ]
  },
  {
   "cell_type": "code",
   "execution_count": 12,
   "metadata": {},
   "outputs": [],
   "source": [
    "def add_features(self,X):\n",
    "    x1 = X[:,0].reshape(-1,1)\n",
    "    x2 = X[:,1].reshape(-1,1)\n",
    "    X_new = np.hstack((X,X**2))\n",
    "    return X_new\n",
    "\n",
    "def fit(self, X, y):\n",
    "    ''' Fit the model according to the given training data '''\n",
    "    X = self.add_features(X)\n",
    "    X = self.add_ones(X)\n",
    "    self.w = minimize(fun=self.fobj, x0=np.zeros(X.shape[1]), jac=True, args=(X,y)).x\n",
    "    return\n",
    "\n",
    "def decision_function(self, X):\n",
    "    ''' Predict confidence score (discriminant) z = f(x) = w^T x'''\n",
    "    X = self.add_features(X)\n",
    "    X = self.add_ones(X)\n",
    "    z = X @ self.w\n",
    "    return z\n",
    "\n",
    "Model.add_features = add_features\n",
    "Model.fit = fit\n",
    "Model.decision_function = decision_function"
   ]
  },
  {
   "cell_type": "code",
   "execution_count": 13,
   "metadata": {},
   "outputs": [
    {
     "name": "stdout",
     "output_type": "stream",
     "text": [
      "train[0]:  [9.8 3.7]\n",
      "test[0]:  [ 9.8   3.7  96.04 13.69]\n"
     ]
    },
    {
     "data": {
      "text/plain": [
       "(4,)"
      ]
     },
     "execution_count": 13,
     "metadata": {},
     "output_type": "execute_result"
    }
   ],
   "source": [
    "test = Model()\n",
    "test = test.add_features(X_train)\n",
    "print(\"train[0]: \", X_train[0])\n",
    "print(\"test[0]: \", test[0])\n",
    "test[0].shape"
   ]
  },
  {
   "cell_type": "markdown",
   "metadata": {},
   "source": [
    "### Erro de implementação\n",
    "\n",
    "Não foi possível conseguir 100% de acurácia de forma alguma. Mesmo usando as features mostradas em sala.\n",
    "\n",
    "Tentei debugar o problema, mas não consegui. Possívelmente está nas funções que criei e talvez tenha a ver com o erro RuntimeWarning que estou obtendo."
   ]
  },
  {
   "cell_type": "code",
   "execution_count": 14,
   "metadata": {
    "scrolled": false
   },
   "outputs": [
    {
     "name": "stdout",
     "output_type": "stream",
     "text": [
      "w:  [-163.27202393   23.05095196   16.37487461   -1.2876637    -0.64082315]\n",
      "Accuracy:  99.0 %\n",
      "Train accuracy:  98.5 %\n",
      "Test accuracy:  100.0 %\n"
     ]
    },
    {
     "name": "stderr",
     "output_type": "stream",
     "text": [
      "c:\\users\\koba\\appdata\\local\\programs\\python\\python36\\lib\\site-packages\\ipykernel_launcher.py:26: RuntimeWarning: divide by zero encountered in log\n",
      "c:\\users\\koba\\appdata\\local\\programs\\python\\python36\\lib\\site-packages\\ipykernel_launcher.py:26: RuntimeWarning: divide by zero encountered in log\n"
     ]
    },
    {
     "data": {
      "image/png": "[encoded data removed]",
      "text/plain": [
       "<Figure size 432x288 with 1 Axes>"
      ]
     },
     "metadata": {},
     "output_type": "display_data"
    }
   ],
   "source": [
    "model = Model()\n",
    "model.fit(X_train,y_train)\n",
    "w = model.w\n",
    "acc = model.accuracy(X,y)\n",
    "acc_train = model.accuracy(X_train,y_train)\n",
    "acc_test = model.accuracy(X_test, y_test)\n",
    "\n",
    "print(\"w: \", w)\n",
    "print(\"Accuracy: \", acc*100 ,\"%\")\n",
    "print(\"Train accuracy: \", acc_train*100, \"%\")\n",
    "print(\"Test accuracy: \", acc_test*100, \"%\")\n",
    "\n",
    "plot_data(X_train,y_train)\n",
    "plot_boundary(model.decision_function ,X)"
   ]
  },
  {
   "cell_type": "markdown",
   "metadata": {},
   "source": [
    "## Conjunto de dados #2"
   ]
  },
  {
   "cell_type": "code",
   "execution_count": 15,
   "metadata": {},
   "outputs": [
    {
     "data": {
      "image/png": "[encoded data removed]",
      "text/plain": [
       "<Figure size 432x288 with 1 Axes>"
      ]
     },
     "metadata": {},
     "output_type": "display_data"
    }
   ],
   "source": [
    "from sklearn.datasets import make_circles\n",
    "X, y = make_circles(n_samples=1200, noise=0.28, factor=0, random_state=0)\n",
    "X_train, X_test, y_train, y_test = train_test_split(X, y, test_size=1000, random_state=0)\n",
    "plot_data(X_train,y_train)"
   ]
  },
  {
   "cell_type": "markdown",
   "metadata": {},
   "source": [
    "### Treinamento sem adição de atributos"
   ]
  },
  {
   "cell_type": "code",
   "execution_count": 16,
   "metadata": {},
   "outputs": [],
   "source": [
    "#     def add_features(self,X):\n",
    "#         ''' Add new features derived from the original ones '''\n",
    "# #         X_new = np.hstack((X,X**2,X**3))\n",
    "#         x1 = X[:,0].reshape(-1,1)\n",
    "#         x2 = X[:,1].reshape(-1,1)\n",
    "#         for i in range(2,self.d+1):\n",
    "#             x1_new = np.power(x1,i)\n",
    "#             x2_new = np.power(x2,i)\n",
    "#             if self.cross_terms:\n",
    "#                 x1x2 = x1*x2\n",
    "#                 X_new = np.hstack((X,x1_new,x1x2,x2_new))\n",
    "#             else:\n",
    "#                 X_new = np.hstack((X,x1_new,x2_new))\n",
    "#             X = X_new\n",
    "#         X_new = X\n",
    "#         return X_new\n",
    "\n",
    "def add_features(self,X):\n",
    "    X_new = X.copy()\n",
    "    x1 = X[:,0]\n",
    "    x2 = X[:,1]\n",
    "    for i in range(2, self.d+1):\n",
    "        for j in range(self.d+1):\n",
    "            X_new = np.c_[X_new, (x1**(i-j)) * (x2**(j))]\n",
    "    return X_new\n",
    "\n",
    "Model.add_features = add_features"
   ]
  },
  {
   "cell_type": "markdown",
   "metadata": {},
   "source": [
    "### Erro de implementação\n",
    "\n",
    "A função add_features está adicionando 1 elemento extra (-1.23878334e+00) que não consigo ver de onde aparece.\n",
    "\n",
    "E está causando problema no treinamento dos conjuntos de dados"
   ]
  },
  {
   "cell_type": "code",
   "execution_count": 17,
   "metadata": {},
   "outputs": [
    {
     "name": "stdout",
     "output_type": "stream",
     "text": [
      "train[0]:  [-0.09137313  0.48373178]\n",
      "test:  [-9.13731286e-02  4.83731776e-01  8.34904863e-03 -4.42000858e-02\n",
      "  2.33996431e-01 -1.23878334e+00 -7.62878693e-04  4.03870012e-03\n",
      " -2.13809860e-02  1.13191509e-01]\n"
     ]
    },
    {
     "data": {
      "text/plain": [
       "(10,)"
      ]
     },
     "execution_count": 17,
     "metadata": {},
     "output_type": "execute_result"
    }
   ],
   "source": [
    "test = Model(3)\n",
    "test = test.add_features(X_train)\n",
    "print(\"train[0]: \", X_train[0])\n",
    "print(\"test: \", test[0])\n",
    "test[0].shape"
   ]
  },
  {
   "cell_type": "code",
   "execution_count": 18,
   "metadata": {},
   "outputs": [
    {
     "name": "stdout",
     "output_type": "stream",
     "text": [
      "w:  [-0.07086982 -0.02539151 -0.28690359]\n",
      "Accuracy:  39.58333333333333 %\n",
      "Train accuracy:  41.0 %\n",
      "Test accuracy:  39.300000000000004 %\n"
     ]
    },
    {
     "data": {
      "image/png": "[encoded data removed]",
      "text/plain": [
       "<Figure size 432x288 with 1 Axes>"
      ]
     },
     "metadata": {},
     "output_type": "display_data"
    }
   ],
   "source": [
    "model = Model()\n",
    "model.fit(X_train,y_train)\n",
    "w = model.w\n",
    "acc = model.accuracy(X,y)\n",
    "acc_train = model.accuracy(X_train,y_train)\n",
    "acc_test = model.accuracy(X_test, y_test)\n",
    "\n",
    "print(\"w: \", w)\n",
    "print(\"Accuracy: \", acc*100 ,\"%\")\n",
    "print(\"Train accuracy: \", acc_train*100, \"%\")\n",
    "print(\"Test accuracy: \", acc_test*100, \"%\")\n",
    "\n",
    "plot_data(X_train,y_train)\n",
    "plot_boundary(model.decision_function ,X_train)"
   ]
  },
  {
   "cell_type": "markdown",
   "metadata": {},
   "source": [
    "### Adição de atributos "
   ]
  },
  {
   "cell_type": "code",
   "execution_count": 19,
   "metadata": {},
   "outputs": [
    {
     "name": "stdout",
     "output_type": "stream",
     "text": [
      "w:  [  6.85767886  -2.86153842  -0.54617288 -19.30139386   1.9449857\n",
      " -10.07247294  -0.02261994   3.11835665  -0.7727739    7.32688664\n",
      "  -0.25468313]\n",
      "Accuracy:  91.66666666666666 %\n",
      "Train accuracy:  93.5 %\n",
      "Test accuracy:  91.3 %\n"
     ]
    },
    {
     "data": {
      "image/png": "[encoded data removed]",
      "text/plain": [
       "<Figure size 432x288 with 1 Axes>"
      ]
     },
     "metadata": {},
     "output_type": "display_data"
    }
   ],
   "source": [
    "model = Model(3)\n",
    "model.fit(X_train,y_train)\n",
    "w = model.w\n",
    "acc = model.accuracy(X,y)\n",
    "acc_train = model.accuracy(X_train,y_train)\n",
    "acc_test = model.accuracy(X_test, y_test)\n",
    "\n",
    "print(\"w: \", w)\n",
    "print(\"Accuracy: \", acc*100 ,\"%\")\n",
    "print(\"Train accuracy: \", acc_train*100, \"%\")\n",
    "print(\"Test accuracy: \", acc_test*100, \"%\")\n",
    "\n",
    "plot_data(X_train,y_train)\n",
    "plot_boundary(model.decision_function ,X_train)"
   ]
  },
  {
   "cell_type": "markdown",
   "metadata": {},
   "source": [
    "### Regularização L2"
   ]
  },
  {
   "cell_type": "code",
   "execution_count": 20,
   "metadata": {},
   "outputs": [],
   "source": [
    "def fobj(self, w, X, y):\n",
    "    ''' Compute cost and gradient for optimization '''\n",
    "    L = np.identity(X.shape[1])\n",
    "    L[0,0] = 0\n",
    "    m = y.shape[0]\n",
    "    y_hat = sigmoid(X @ w)\n",
    "    # Cost function\n",
    "    J = (-1/m)*(y.T @ np.log(y_hat) + (1-y).T @ np.log(1 - y_hat)) + self.lamb*(1/(2*m))*(w.T @ (L @ w))   \n",
    "    # Grad function\n",
    "    grad = (1/m)*(X.T @ (sigmoid(X @ w) - y)) + self.lamb*(1/m)*(L @ w)\n",
    "    return J, grad\n",
    "\n",
    "Model.fobj = fobj"
   ]
  },
  {
   "cell_type": "code",
   "execution_count": 21,
   "metadata": {},
   "outputs": [],
   "source": [
    "# for lamb in np.array():\n",
    "#     plot_boundary()\n",
    "#     plt.show()"
   ]
  },
  {
   "cell_type": "code",
   "execution_count": 22,
   "metadata": {},
   "outputs": [
    {
     "name": "stdout",
     "output_type": "stream",
     "text": [
      "w:  [ 4.08140371 -0.77598042 -0.59935755 -9.59962042  0.666906   -6.25989046\n",
      " -0.01434422  0.27930846  0.19980996  0.87402716 -0.0351143 ]\n",
      "Accuracy:  92.16666666666666 %\n",
      "Train accuracy:  94.5 %\n",
      "Test accuracy:  91.7 %\n"
     ]
    },
    {
     "data": {
      "image/png": "[encoded data removed]",
      "text/plain": [
       "<Figure size 432x288 with 1 Axes>"
      ]
     },
     "metadata": {},
     "output_type": "display_data"
    }
   ],
   "source": [
    "model = Model(3,0.1)\n",
    "model.fit(X_train,y_train)\n",
    "w = model.w\n",
    "acc = model.accuracy(X,y)\n",
    "acc_train = model.accuracy(X_train,y_train)\n",
    "acc_test = model.accuracy(X_test, y_test)\n",
    "\n",
    "print(\"w: \", w)\n",
    "print(\"Accuracy: \", acc*100 ,\"%\")\n",
    "print(\"Train accuracy: \", acc_train*100, \"%\")\n",
    "print(\"Test accuracy: \", acc_test*100, \"%\")\n",
    "\n",
    "plot_data(X_train,y_train)\n",
    "plot_boundary(model.decision_function ,X_train)"
   ]
  },
  {
   "cell_type": "markdown",
   "metadata": {},
   "source": [
    "## Conjunto de dados #3"
   ]
  },
  {
   "cell_type": "code",
   "execution_count": 23,
   "metadata": {},
   "outputs": [
    {
     "data": {
      "image/png": "[encoded data removed]",
      "text/plain": [
       "<Figure size 432x288 with 1 Axes>"
      ]
     },
     "metadata": {},
     "output_type": "display_data"
    }
   ],
   "source": [
    "from sklearn.datasets import make_moons\n",
    "X, y = make_moons(n_samples=1200, noise=0.25, random_state=0)\n",
    "X_train, X_test, y_train, y_test = train_test_split(X, y, test_size=1000, random_state=0)\n",
    "plot_data(X_train,y_train)"
   ]
  },
  {
   "cell_type": "code",
   "execution_count": 24,
   "metadata": {},
   "outputs": [
    {
     "name": "stdout",
     "output_type": "stream",
     "text": [
      "w:  [ 0.97953555  1.44242042 -6.27161075]\n",
      "Accuracy:  87.16666666666667 %\n",
      "Train accuracy:  91.0 %\n",
      "Test accuracy:  86.4 %\n"
     ]
    },
    {
     "data": {
      "image/png": "[encoded data removed]",
      "text/plain": [
       "<Figure size 432x288 with 1 Axes>"
      ]
     },
     "metadata": {},
     "output_type": "display_data"
    }
   ],
   "source": [
    "model = Model()\n",
    "model.fit(X_train,y_train)\n",
    "w = model.w\n",
    "acc = model.accuracy(X,y)\n",
    "acc_train = model.accuracy(X_train,y_train)\n",
    "acc_test = model.accuracy(X_test, y_test)\n",
    "\n",
    "print(\"w: \", w)\n",
    "print(\"Accuracy: \", acc*100 ,\"%\")\n",
    "print(\"Train accuracy: \", acc_train*100, \"%\")\n",
    "print(\"Test accuracy: \", acc_test*100, \"%\")\n",
    "\n",
    "plot_data(X_train,y_train)\n",
    "plot_boundary(model.decision_function ,X_train)"
   ]
  },
  {
   "cell_type": "code",
   "execution_count": 25,
   "metadata": {},
   "outputs": [
    {
     "name": "stdout",
     "output_type": "stream",
     "text": [
      "w:  [ 6.93444327e+00  1.10705131e+00 -1.29657466e+01 -1.87379839e+01\n",
      " -6.44373285e-01 -3.23827981e-03  1.21954183e-02  1.01563848e+01\n",
      "  2.70179430e+00  9.66172658e+00 -3.55896927e+00]\n",
      "Accuracy:  94.58333333333333 %\n",
      "Train accuracy:  96.5 %\n",
      "Test accuracy:  94.19999999999999 %\n"
     ]
    },
    {
     "name": "stderr",
     "output_type": "stream",
     "text": [
      "c:\\users\\koba\\appdata\\local\\programs\\python\\python36\\lib\\site-packages\\ipykernel_launcher.py:8: RuntimeWarning: divide by zero encountered in log\n",
      "  \n",
      "c:\\users\\koba\\appdata\\local\\programs\\python\\python36\\lib\\site-packages\\ipykernel_launcher.py:8: RuntimeWarning: divide by zero encountered in log\n",
      "  \n"
     ]
    },
    {
     "data": {
      "image/png": "[encoded data removed]",
      "text/plain": [
       "<Figure size 432x288 with 1 Axes>"
      ]
     },
     "metadata": {},
     "output_type": "display_data"
    }
   ],
   "source": [
    "model = Model(3)\n",
    "model.fit(X_train,y_train)\n",
    "w = model.w\n",
    "acc = model.accuracy(X,y)\n",
    "acc_train = model.accuracy(X_train,y_train)\n",
    "acc_test = model.accuracy(X_test, y_test)\n",
    "\n",
    "print(\"w: \", w)\n",
    "print(\"Accuracy: \", acc*100 ,\"%\")\n",
    "print(\"Train accuracy: \", acc_train*100, \"%\")\n",
    "print(\"Test accuracy: \", acc_test*100, \"%\")\n",
    "\n",
    "plot_data(X_train,y_train)\n",
    "plot_boundary(model.decision_function ,X_train)"
   ]
  },
  {
   "cell_type": "markdown",
   "metadata": {},
   "source": [
    "### Com regularização"
   ]
  },
  {
   "cell_type": "code",
   "execution_count": 26,
   "metadata": {},
   "outputs": [
    {
     "name": "stderr",
     "output_type": "stream",
     "text": [
      "c:\\users\\koba\\appdata\\local\\programs\\python\\python36\\lib\\site-packages\\ipykernel_launcher.py:8: RuntimeWarning: divide by zero encountered in log\n",
      "  \n",
      "c:\\users\\koba\\appdata\\local\\programs\\python\\python36\\lib\\site-packages\\ipykernel_launcher.py:8: RuntimeWarning: divide by zero encountered in log\n",
      "  \n"
     ]
    },
    {
     "name": "stdout",
     "output_type": "stream",
     "text": [
      "w:  [  4.23958281   1.00389049  -6.55104729 -13.17888268  -2.35671882\n",
      "   0.0465349    0.01521559   7.43393741   0.41571218   7.78061751\n",
      "  -6.47317964]\n",
      "Accuracy:  95.08333333333333 %\n",
      "Train accuracy:  97.0 %\n",
      "Test accuracy:  94.69999999999999 %\n"
     ]
    },
    {
     "data": {
      "image/png": "[encoded data removed]",
      "text/plain": [
       "<Figure size 432x288 with 1 Axes>"
      ]
     },
     "metadata": {},
     "output_type": "display_data"
    }
   ],
   "source": [
    "model = Model(3,0.01)\n",
    "model.fit(X_train,y_train)\n",
    "w = model.w\n",
    "acc = model.accuracy(X,y)\n",
    "acc_train = model.accuracy(X_train,y_train)\n",
    "acc_test = model.accuracy(X_test, y_test)\n",
    "\n",
    "print(\"w: \", w)\n",
    "print(\"Accuracy: \", acc*100 ,\"%\")\n",
    "print(\"Train accuracy: \", acc_train*100, \"%\")\n",
    "print(\"Test accuracy: \", acc_test*100, \"%\")\n",
    "\n",
    "plot_data(X_train,y_train)\n",
    "plot_boundary(model.decision_function ,X_train)"
   ]
  },
  {
   "cell_type": "markdown",
   "metadata": {},
   "source": [
    "## Conjunto de dados #4"
   ]
  },
  {
   "cell_type": "code",
   "execution_count": 27,
   "metadata": {},
   "outputs": [
    {
     "data": {
      "text/html": [
       "<div>\n",
       "<style scoped>\n",
       "    .dataframe tbody tr th:only-of-type {\n",
       "        vertical-align: middle;\n",
       "    }\n",
       "\n",
       "    .dataframe tbody tr th {\n",
       "        vertical-align: top;\n",
       "    }\n",
       "\n",
       "    .dataframe thead th {\n",
       "        text-align: right;\n",
       "    }\n",
       "</style>\n",
       "<table border=\"1\" class=\"dataframe\">\n",
       "  <thead>\n",
       "    <tr style=\"text-align: right;\">\n",
       "      <th></th>\n",
       "      <th>Id</th>\n",
       "      <th>SepalLengthCm</th>\n",
       "      <th>SepalWidthCm</th>\n",
       "      <th>PetalLengthCm</th>\n",
       "      <th>PetalWidthCm</th>\n",
       "      <th>Species</th>\n",
       "    </tr>\n",
       "  </thead>\n",
       "  <tbody>\n",
       "    <tr>\n",
       "      <th>0</th>\n",
       "      <td>1</td>\n",
       "      <td>5.1</td>\n",
       "      <td>3.5</td>\n",
       "      <td>1.4</td>\n",
       "      <td>0.2</td>\n",
       "      <td>Iris-setosa</td>\n",
       "    </tr>\n",
       "    <tr>\n",
       "      <th>1</th>\n",
       "      <td>2</td>\n",
       "      <td>4.9</td>\n",
       "      <td>3.0</td>\n",
       "      <td>1.4</td>\n",
       "      <td>0.2</td>\n",
       "      <td>Iris-setosa</td>\n",
       "    </tr>\n",
       "    <tr>\n",
       "      <th>2</th>\n",
       "      <td>3</td>\n",
       "      <td>4.7</td>\n",
       "      <td>3.2</td>\n",
       "      <td>1.3</td>\n",
       "      <td>0.2</td>\n",
       "      <td>Iris-setosa</td>\n",
       "    </tr>\n",
       "    <tr>\n",
       "      <th>3</th>\n",
       "      <td>4</td>\n",
       "      <td>4.6</td>\n",
       "      <td>3.1</td>\n",
       "      <td>1.5</td>\n",
       "      <td>0.2</td>\n",
       "      <td>Iris-setosa</td>\n",
       "    </tr>\n",
       "    <tr>\n",
       "      <th>4</th>\n",
       "      <td>5</td>\n",
       "      <td>5.0</td>\n",
       "      <td>3.6</td>\n",
       "      <td>1.4</td>\n",
       "      <td>0.2</td>\n",
       "      <td>Iris-setosa</td>\n",
       "    </tr>\n",
       "  </tbody>\n",
       "</table>\n",
       "</div>"
      ],
      "text/plain": [
       "   Id  SepalLengthCm  SepalWidthCm  PetalLengthCm  PetalWidthCm      Species\n",
       "0   1            5.1           3.5            1.4           0.2  Iris-setosa\n",
       "1   2            4.9           3.0            1.4           0.2  Iris-setosa\n",
       "2   3            4.7           3.2            1.3           0.2  Iris-setosa\n",
       "3   4            4.6           3.1            1.5           0.2  Iris-setosa\n",
       "4   5            5.0           3.6            1.4           0.2  Iris-setosa"
      ]
     },
     "execution_count": 27,
     "metadata": {},
     "output_type": "execute_result"
    }
   ],
   "source": [
    "df = pd.read_csv('data/Iris.csv')\n",
    "\n",
    "df.head()"
   ]
  },
  {
   "cell_type": "code",
   "execution_count": 28,
   "metadata": {},
   "outputs": [
    {
     "name": "stdout",
     "output_type": "stream",
     "text": [
      "<class 'pandas.core.frame.DataFrame'>\n",
      "RangeIndex: 150 entries, 0 to 149\n",
      "Data columns (total 6 columns):\n",
      "Id               150 non-null int64\n",
      "SepalLengthCm    150 non-null float64\n",
      "SepalWidthCm     150 non-null float64\n",
      "PetalLengthCm    150 non-null float64\n",
      "PetalWidthCm     150 non-null float64\n",
      "Species          150 non-null object\n",
      "dtypes: float64(4), int64(1), object(1)\n",
      "memory usage: 7.1+ KB\n"
     ]
    }
   ],
   "source": [
    "df.info()"
   ]
  },
  {
   "cell_type": "code",
   "execution_count": 29,
   "metadata": {},
   "outputs": [
    {
     "data": {
      "text/html": [
       "<div>\n",
       "<style scoped>\n",
       "    .dataframe tbody tr th:only-of-type {\n",
       "        vertical-align: middle;\n",
       "    }\n",
       "\n",
       "    .dataframe tbody tr th {\n",
       "        vertical-align: top;\n",
       "    }\n",
       "\n",
       "    .dataframe thead th {\n",
       "        text-align: right;\n",
       "    }\n",
       "</style>\n",
       "<table border=\"1\" class=\"dataframe\">\n",
       "  <thead>\n",
       "    <tr style=\"text-align: right;\">\n",
       "      <th></th>\n",
       "      <th>Id</th>\n",
       "      <th>SepalLengthCm</th>\n",
       "      <th>SepalWidthCm</th>\n",
       "      <th>PetalLengthCm</th>\n",
       "      <th>PetalWidthCm</th>\n",
       "    </tr>\n",
       "  </thead>\n",
       "  <tbody>\n",
       "    <tr>\n",
       "      <th>count</th>\n",
       "      <td>150.000000</td>\n",
       "      <td>150.000000</td>\n",
       "      <td>150.000000</td>\n",
       "      <td>150.000000</td>\n",
       "      <td>150.000000</td>\n",
       "    </tr>\n",
       "    <tr>\n",
       "      <th>mean</th>\n",
       "      <td>75.500000</td>\n",
       "      <td>5.843333</td>\n",
       "      <td>3.054000</td>\n",
       "      <td>3.758667</td>\n",
       "      <td>1.198667</td>\n",
       "    </tr>\n",
       "    <tr>\n",
       "      <th>std</th>\n",
       "      <td>43.445368</td>\n",
       "      <td>0.828066</td>\n",
       "      <td>0.433594</td>\n",
       "      <td>1.764420</td>\n",
       "      <td>0.763161</td>\n",
       "    </tr>\n",
       "    <tr>\n",
       "      <th>min</th>\n",
       "      <td>1.000000</td>\n",
       "      <td>4.300000</td>\n",
       "      <td>2.000000</td>\n",
       "      <td>1.000000</td>\n",
       "      <td>0.100000</td>\n",
       "    </tr>\n",
       "    <tr>\n",
       "      <th>25%</th>\n",
       "      <td>38.250000</td>\n",
       "      <td>5.100000</td>\n",
       "      <td>2.800000</td>\n",
       "      <td>1.600000</td>\n",
       "      <td>0.300000</td>\n",
       "    </tr>\n",
       "    <tr>\n",
       "      <th>50%</th>\n",
       "      <td>75.500000</td>\n",
       "      <td>5.800000</td>\n",
       "      <td>3.000000</td>\n",
       "      <td>4.350000</td>\n",
       "      <td>1.300000</td>\n",
       "    </tr>\n",
       "    <tr>\n",
       "      <th>75%</th>\n",
       "      <td>112.750000</td>\n",
       "      <td>6.400000</td>\n",
       "      <td>3.300000</td>\n",
       "      <td>5.100000</td>\n",
       "      <td>1.800000</td>\n",
       "    </tr>\n",
       "    <tr>\n",
       "      <th>max</th>\n",
       "      <td>150.000000</td>\n",
       "      <td>7.900000</td>\n",
       "      <td>4.400000</td>\n",
       "      <td>6.900000</td>\n",
       "      <td>2.500000</td>\n",
       "    </tr>\n",
       "  </tbody>\n",
       "</table>\n",
       "</div>"
      ],
      "text/plain": [
       "               Id  SepalLengthCm  SepalWidthCm  PetalLengthCm  PetalWidthCm\n",
       "count  150.000000     150.000000    150.000000     150.000000    150.000000\n",
       "mean    75.500000       5.843333      3.054000       3.758667      1.198667\n",
       "std     43.445368       0.828066      0.433594       1.764420      0.763161\n",
       "min      1.000000       4.300000      2.000000       1.000000      0.100000\n",
       "25%     38.250000       5.100000      2.800000       1.600000      0.300000\n",
       "50%     75.500000       5.800000      3.000000       4.350000      1.300000\n",
       "75%    112.750000       6.400000      3.300000       5.100000      1.800000\n",
       "max    150.000000       7.900000      4.400000       6.900000      2.500000"
      ]
     },
     "execution_count": 29,
     "metadata": {},
     "output_type": "execute_result"
    }
   ],
   "source": [
    "df.describe()"
   ]
  },
  {
   "cell_type": "markdown",
   "metadata": {},
   "source": [
    "* Separando os dados em features e labels\n",
    "* Shuffle nos dados\n",
    "* Mudando label de string para 0 e 1"
   ]
  },
  {
   "cell_type": "code",
   "execution_count": 30,
   "metadata": {
    "scrolled": true
   },
   "outputs": [
    {
     "data": {
      "text/plain": [
       "((150, 4),\n",
       " (150,),\n",
       " array([0, 0, 1, 0, 1, 0, 1, 0, 0, 0, 0, 0, 0, 0, 0, 1, 0, 0, 1, 1, 0, 0,\n",
       "        1, 1, 0, 1, 1, 0, 0, 1, 0, 0, 1, 0, 0, 0, 1, 0, 0, 0, 0, 1, 0, 1,\n",
       "        1, 0, 0, 0, 0, 0, 0, 0, 0, 0, 0, 0, 0, 0, 0, 0, 0, 1, 0, 0, 0, 0,\n",
       "        0, 0, 1, 1, 0, 0, 1, 1, 0, 1, 0, 0, 1, 0, 0, 0, 1, 0, 0, 0, 0, 1,\n",
       "        1, 0, 0, 1, 0, 1, 0, 0, 1, 1, 0, 1, 1, 1, 0, 0, 0, 1, 1, 1, 0, 0,\n",
       "        1, 1, 0, 1, 0, 0, 0, 0, 1, 0, 1, 0, 1, 1, 0, 1, 0, 0, 0, 0, 0, 0,\n",
       "        0, 0, 1, 0, 0, 0, 1, 0, 0, 0, 0, 1, 1, 1, 0, 0, 0, 1]))"
      ]
     },
     "execution_count": 30,
     "metadata": {},
     "output_type": "execute_result"
    }
   ],
   "source": [
    "data = df[['SepalLengthCm','SepalWidthCm','PetalLengthCm','PetalWidthCm','Species']].values\n",
    "\n",
    "np.random.seed(0)\n",
    "data = np.random.permutation(data)\n",
    "\n",
    "X = data[:,[0,1,2,3]]\n",
    "y = data[:,4]\n",
    "\n",
    "y1 = (y == \"Iris-setosa\")\n",
    "y2 = (y == \"Iris-versicolor\")\n",
    "y3 = (y == \"Iris-virginica\")\n",
    "\n",
    "X = X.astype(float)\n",
    "y1 = y1.astype(int)\n",
    "y2 = y2.astype(int)\n",
    "y3 = y3.astype(int)\n",
    "\n",
    "X.shape,y1.shape,y1"
   ]
  },
  {
   "cell_type": "markdown",
   "metadata": {},
   "source": [
    "Treinando 3 classificadores binários distintos"
   ]
  },
  {
   "cell_type": "code",
   "execution_count": 31,
   "metadata": {},
   "outputs": [
    {
     "name": "stderr",
     "output_type": "stream",
     "text": [
      "c:\\users\\koba\\appdata\\local\\programs\\python\\python36\\lib\\site-packages\\ipykernel_launcher.py:8: RuntimeWarning: divide by zero encountered in log\n",
      "  \n",
      "c:\\users\\koba\\appdata\\local\\programs\\python\\python36\\lib\\site-packages\\ipykernel_launcher.py:8: RuntimeWarning: divide by zero encountered in log\n",
      "  \n"
     ]
    }
   ],
   "source": [
    "iris1 = Model()\n",
    "iris1.fit(X,y1)\n",
    "w1 = iris1.w\n",
    "acc1 = iris1.accuracy(X,y1)"
   ]
  },
  {
   "cell_type": "code",
   "execution_count": 32,
   "metadata": {},
   "outputs": [
    {
     "name": "stdout",
     "output_type": "stream",
     "text": [
      "w:  [  1.71350739   3.0709032    9.64735707 -14.3805576   -6.47402302]\n",
      "Accuracy:  100.0 %\n"
     ]
    }
   ],
   "source": [
    "print(\"w: \", w1)\n",
    "print(\"Accuracy: \", acc1*100 ,\"%\")"
   ]
  },
  {
   "cell_type": "code",
   "execution_count": 33,
   "metadata": {},
   "outputs": [],
   "source": [
    "iris2 = Model()\n",
    "iris2.fit(X,y2)\n",
    "w2 = iris2.w\n",
    "acc2 = iris2.accuracy(X,y2)"
   ]
  },
  {
   "cell_type": "code",
   "execution_count": 34,
   "metadata": {},
   "outputs": [
    {
     "name": "stdout",
     "output_type": "stream",
     "text": [
      "w:  [ 7.32295978 -0.25276163 -2.77940409  1.29938132 -2.70441286]\n",
      "Accuracy:  74.0 %\n"
     ]
    }
   ],
   "source": [
    "print(\"w: \", w2)\n",
    "print(\"Accuracy: \", acc2*100 ,\"%\")"
   ]
  },
  {
   "cell_type": "code",
   "execution_count": 35,
   "metadata": {},
   "outputs": [],
   "source": [
    "iris3 = Model()\n",
    "iris3.fit(X,y3)\n",
    "w3 = iris3.w\n",
    "acc3 = iris3.accuracy(X,y3)"
   ]
  },
  {
   "cell_type": "code",
   "execution_count": 36,
   "metadata": {},
   "outputs": [
    {
     "name": "stdout",
     "output_type": "stream",
     "text": [
      "w:  [-42.63723545  -2.46521652  -6.68063527   9.42934112  18.28551942]\n",
      "Accuracy:  98.66666666666667 %\n"
     ]
    }
   ],
   "source": [
    "print(\"w: \", w3)\n",
    "print(\"Accuracy: \", acc3*100 ,\"%\")"
   ]
  },
  {
   "cell_type": "code",
   "execution_count": 38,
   "metadata": {},
   "outputs": [],
   "source": [
    "y1_pred = iris1.decision_function(X)\n",
    "y2_pred = iris2.decision_function(X)\n",
    "y3_pred = iris3.decision_function(X)"
   ]
  },
  {
   "cell_type": "markdown",
   "metadata": {},
   "source": [
    "Matriz com os valores de predição de cada classificador"
   ]
  },
  {
   "cell_type": "code",
   "execution_count": 39,
   "metadata": {},
   "outputs": [
    {
     "data": {
      "text/plain": [
       "array([[-4.23411533e+01, -1.78913530e+00,  1.63336163e+01],\n",
       "       [-2.26331413e+01,  2.18481338e+00, -1.61230483e+01],\n",
       "       [ 3.76947895e+01, -4.46247512e+00, -6.73964130e+01],\n",
       "       [-5.01423181e+01,  7.35687137e-01,  1.23116257e+01],\n",
       "       [ 2.70033964e+01, -1.98263290e+00, -5.98763624e+01],\n",
       "       [-4.95719273e+01, -2.40621626e+00,  2.20756493e+01],\n",
       "       [ 3.01968414e+01, -2.79089086e+00, -6.06017422e+01],\n",
       "       [-2.51042895e+01, -9.36222951e-01, -8.11797309e+00],\n",
       "       [-2.84820598e+01,  2.72701531e-01, -7.24592199e+00],\n",
       "       [-1.84798436e+01, -3.19429093e-01, -1.48922953e+01],\n",
       "       [-4.40656095e+01,  2.04502055e+00,  3.35932952e+00],\n",
       "       [-2.21847132e+01, -1.39821113e+00, -9.93233989e+00],\n",
       "       [-2.78988316e+01,  8.60579116e-01, -1.01203084e+01],\n",
       "       [-2.71746215e+01, -1.81787528e-01, -6.56367332e+00],\n",
       "       [-2.82289005e+01,  4.17561342e-02, -7.13126807e+00],\n",
       "       [ 2.44495013e+01, -8.53094220e-01, -5.94542021e+01],\n",
       "       [-2.63072816e+01, -4.63285252e-01, -6.94206270e+00],\n",
       "       [-2.73566777e+01,  1.17830252e+00, -1.01338538e+01],\n",
       "       [ 2.33209264e+01, -1.22069835e+00, -5.58254472e+01],\n",
       "       [ 3.46367432e+01, -4.27419843e+00, -6.24315310e+01],\n",
       "       [-3.74896132e+01, -9.16694093e-01,  7.62658359e+00],\n",
       "       [-2.65709072e+01, -6.40121007e-01, -6.62403962e+00],\n",
       "       [ 2.06369928e+01, -1.41232804e+00, -5.56115827e+01],\n",
       "       [ 2.17752317e+01, -5.71212003e-01, -5.59998490e+01],\n",
       "       [-3.29142109e+01, -6.57406633e-01,  1.54741569e+00],\n",
       "       [ 3.48947854e+01, -3.08709972e+00, -6.49410734e+01],\n",
       "       [ 2.41224019e+01, -3.14080074e+00, -5.53662978e+01],\n",
       "       [-2.15221849e+01, -2.32831270e-01, -1.29780781e+01],\n",
       "       [-1.46729184e+01,  1.25006769e+00, -2.09264341e+01],\n",
       "       [ 2.42705361e+01, -2.39357734e+00, -5.52763244e+01],\n",
       "       [-3.94722134e+01, -6.32213264e-01,  5.65072058e+00],\n",
       "       [-2.71850878e+01, -5.89568680e-01, -6.13099631e+00],\n",
       "       [ 2.85823128e+01, -2.31112563e+00, -6.10374692e+01],\n",
       "       [-3.27298856e+01, -1.05807316e+00,  1.40074440e+00],\n",
       "       [-4.63940855e+01, -7.50219050e-01,  1.59120530e+01],\n",
       "       [-2.14177387e+01, -2.14382631e-01, -1.11199190e+01],\n",
       "       [ 2.94884577e+01, -3.28189270e+00, -6.05598479e+01],\n",
       "       [-3.75124899e+01,  6.01783071e-01,  1.88022097e+00],\n",
       "       [-2.13354690e+01, -1.10576389e+00, -1.01924069e+01],\n",
       "       [-2.06831837e+01,  5.82721502e-01, -1.46451552e+01],\n",
       "       [-4.11507948e+01, -1.26670137e+00,  1.08183533e+01],\n",
       "       [ 2.70287656e+01, -1.61079985e+00, -5.96865386e+01],\n",
       "       [-3.54215503e+01, -2.63055304e+00,  9.78913559e+00],\n",
       "       [ 2.39404672e+01, -3.21240032e+00, -5.22872841e+01],\n",
       "       [ 3.11259648e+01, -2.91755878e+00, -6.28666396e+01],\n",
       "       [-2.04432371e+01,  2.34376518e+00, -1.70363753e+01],\n",
       "       [-4.01298588e+01, -3.79549019e-01,  6.07226246e+00],\n",
       "       [-4.40293987e+01, -2.89713531e+00,  1.82607604e+01],\n",
       "       [-4.02507104e+01,  2.13198827e+00,  2.44905255e+00],\n",
       "       [-4.86535240e+01,  1.34941510e+00,  1.17483391e+01],\n",
       "       [-2.01766420e+01,  1.05171739e+00, -1.62555344e+01],\n",
       "       [-4.83101211e+01, -1.25544062e+00,  1.79143670e+01],\n",
       "       [-2.50505817e+01, -1.66144040e+00, -6.63946160e+00],\n",
       "       [-2.00104122e+01,  1.22499583e+00, -1.62838833e+01],\n",
       "       [-3.50099120e+01, -2.74804255e-01,  2.91189168e+00],\n",
       "       [-3.49790809e+01,  5.18455457e-01, -1.35595945e+00],\n",
       "       [-3.48390226e+01,  3.85631610e-01,  2.09903347e+00],\n",
       "       [-3.90248415e+01,  1.40573408e-01,  7.01950478e+00],\n",
       "       [-2.25708805e+01, -1.01955056e+00, -1.13541535e+01],\n",
       "       [-3.71104962e+01, -1.31024599e+00,  6.90056401e+00],\n",
       "       [-2.21310054e+01, -2.12342858e+00, -8.45382839e+00],\n",
       "       [ 2.20569529e+01, -9.68321211e-01, -5.64361944e+01],\n",
       "       [-4.00688775e+01, -1.58988461e-01,  7.85892010e+00],\n",
       "       [-2.38561424e+01,  3.44768397e-01, -1.11057553e+01],\n",
       "       [-1.32983365e+01, -9.90741212e-01, -1.80994870e+01],\n",
       "       [-2.32165927e+01,  6.66049115e-01, -1.14089748e+01],\n",
       "       [-2.58261091e+01, -3.66122407e-01, -8.74226571e+00],\n",
       "       [-4.32410340e+01, -4.62672322e-01,  7.72515440e+00],\n",
       "       [ 3.08188745e+01, -2.89228261e+00, -6.26201179e+01],\n",
       "       [ 2.73944467e+01, -9.43249358e-01, -6.10787451e+01],\n",
       "       [-4.11024471e+01, -5.07691779e-02,  8.26565841e+00],\n",
       "       [-2.00074427e+01, -2.43887708e-01, -1.51850194e+01],\n",
       "       [ 2.53556462e+01, -1.82386129e+00, -5.89765808e+01],\n",
       "       [ 3.75055811e+01, -5.47985270e+00, -6.46255454e+01],\n",
       "       [-2.73662204e+01, -7.26899014e-01, -6.72514817e+00],\n",
       "       [ 2.28808280e+01, -1.04770702e+00, -5.68860852e+01],\n",
       "       [-3.62201777e+01, -7.47644565e-01,  3.77965592e+00],\n",
       "       [-8.76959173e+00,  8.65502287e-03, -2.35093332e+01],\n",
       "       [ 2.65656886e+01, -2.28190766e+00, -5.80046580e+01],\n",
       "       [-3.24462509e+01,  1.43174528e+00, -2.75866131e+00],\n",
       "       [-4.53519630e+01, -3.33758483e+00,  1.87956980e+01],\n",
       "       [-2.16195807e+01, -2.36388585e-01, -1.26884040e+01],\n",
       "       [ 2.46157310e+01, -6.79815780e-01, -5.94825511e+01],\n",
       "       [-4.59817469e+01, -8.22777331e-01,  1.38505248e+01],\n",
       "       [-4.30851492e+01, -2.12886466e+00,  1.47786767e+01],\n",
       "       [-4.70336353e+01, -1.07149977e+00,  1.62152726e+01],\n",
       "       [-4.57466832e+01, -4.79777764e-01,  1.40835011e+01],\n",
       "       [ 2.97313738e+01, -2.98973257e+00, -6.18522041e+01],\n",
       "       [ 2.49511600e+01, -1.80214244e+00, -5.84403850e+01],\n",
       "       [-3.37429690e+01, -1.99606494e+00,  4.62150284e+00],\n",
       "       [-4.14397895e+01, -1.81537017e+00,  1.09465526e+01],\n",
       "       [ 1.70845613e+01,  6.70774870e-01, -5.13523716e+01],\n",
       "       [-3.89911427e+01, -2.89762673e+00,  1.23393989e+01],\n",
       "       [ 2.42754190e+01, -9.75533229e-01, -5.79005208e+01],\n",
       "       [-4.15147857e+01,  2.17891029e-02,  1.03271866e+01],\n",
       "       [-3.84409130e+01, -1.69985607e+00,  8.96083404e+00],\n",
       "       [ 2.61074946e+01, -1.53497136e+00, -5.89469737e+01],\n",
       "       [ 3.03709236e+01, -2.66845185e+00, -6.21554236e+01],\n",
       "       [-4.09995893e+01,  3.74214805e-01,  3.51830935e+00],\n",
       "       [ 2.90658759e+01, -2.68622889e+00, -5.99053298e+01],\n",
       "       [ 2.41780232e+01, -9.79090544e-01, -5.76108466e+01],\n",
       "       [ 2.88845201e+01, -3.75444591e+00, -5.86597945e+01],\n",
       "       [-2.51460641e+01,  1.22192993e+00, -1.00728477e+01],\n",
       "       [-4.62683510e+01, -1.84371223e+00,  1.69110666e+01],\n",
       "       [-5.45126856e+01, -3.95912254e-02,  1.92184553e+01],\n",
       "       [ 2.97132782e+01, -2.41578760e+00, -6.17338817e+01],\n",
       "       [ 2.44495013e+01, -8.53094220e-01, -5.94542021e+01],\n",
       "       [ 2.90556328e+01, -2.16312336e+00, -6.13123398e+01],\n",
       "       [-2.68984837e+01,  4.31366220e-01, -9.19153810e+00],\n",
       "       [-2.14145459e+01, -7.52379488e-01, -1.18607422e+01],\n",
       "       [ 2.93880923e+01, -1.81656647e+00, -6.13690377e+01],\n",
       "       [ 2.15274326e+01, -2.28141625e+00, -5.20832965e+01],\n",
       "       [-2.09080042e+01, -2.83383597e-01, -1.34711214e+01],\n",
       "       [ 2.69369531e+01, -2.62462012e+00, -5.72053451e+01],\n",
       "       [-6.36735100e+01,  8.95826071e-01,  2.81300940e+01],\n",
       "       [-1.40152731e+01,  9.97403440e-01, -2.13479759e+01],\n",
       "       [-4.23500151e+01, -2.32837797e+00,  9.41996200e+00],\n",
       "       [-2.01427199e+01, -1.05559606e+00, -1.27753274e+01],\n",
       "       [ 3.50181293e+01, -3.70832680e+00, -6.68744023e+01],\n",
       "       [-3.15989201e+01, -1.16273512e+00,  7.04331937e-01],\n",
       "       [ 3.95627005e+01, -4.24229905e+00, -6.86857191e+01],\n",
       "       [-5.69257201e+01,  8.91392847e-01,  1.94224429e+01],\n",
       "       [ 3.05220273e+01, -3.39011198e+00, -6.09665862e+01],\n",
       "       [ 2.27145983e+01, -1.22098546e+00, -5.68577363e+01],\n",
       "       [-4.85712542e+01,  4.58033833e-01,  1.26758513e+01],\n",
       "       [ 2.74767165e+01, -1.83463062e+00, -6.01512330e+01],\n",
       "       [-4.22075662e+01, -2.93346791e+00,  1.58072974e+01],\n",
       "       [-2.11462607e+01, -8.83863075e-02, -1.29632745e+01],\n",
       "       [-1.82803922e+01,  1.74842961e-01, -1.62561528e+01],\n",
       "       [-1.25051906e+01,  4.99189578e-01, -2.27704080e+01],\n",
       "       [-3.88683777e+01, -2.52223637e+00,  1.22395485e+01],\n",
       "       [-3.84385224e+01, -2.17212217e+00,  1.18931765e+01],\n",
       "       [-3.49971765e+01,  1.09240042e+00, -1.23763710e+00],\n",
       "       [-3.16779971e+01, -8.09350719e-01, -9.64003344e-01],\n",
       "       [ 2.17063978e+01, -7.40933129e-01, -5.62611742e+01],\n",
       "       [-1.79249542e+01,  1.36549899e+00, -1.90553694e+01],\n",
       "       [-4.38734121e+01, -2.20075134e+00,  1.68254014e+01],\n",
       "       [-4.00688775e+01, -1.58988461e-01,  7.85892010e+00],\n",
       "       [ 2.73104868e+01, -2.00790906e+00, -6.01228841e+01],\n",
       "       [-2.46079909e+01,  5.58784713e-02, -1.11353624e+01],\n",
       "       [-1.95238796e+01, -6.18990962e-01, -1.40528799e+01],\n",
       "       [-2.99765390e+01, -1.69333978e+00, -3.85273467e-01],\n",
       "       [-2.84415646e+01,  1.53947315e+00, -8.27328448e+00],\n",
       "       [ 3.23796953e+01, -2.64683039e+00, -6.36629024e+01],\n",
       "       [ 2.89098893e+01, -3.38261286e+00, -5.84699708e+01],\n",
       "       [ 2.44495013e+01, -8.53094220e-01, -5.94542021e+01],\n",
       "       [-4.31468309e+01,  7.88818490e-02,  8.17630340e+00],\n",
       "       [-1.98616991e+01,  9.75601797e-01, -1.80273885e+01],\n",
       "       [-4.85731677e+01, -2.42889382e+00,  1.63989115e+01],\n",
       "       [ 2.52836195e+01, -1.45558556e+00, -5.84970829e+01]])"
      ]
     },
     "execution_count": 39,
     "metadata": {},
     "output_type": "execute_result"
    }
   ],
   "source": [
    "y_pred = np.c_[y1_pred,y2_pred,y3_pred]\n",
    "y_pred[0]"
   ]
  },
  {
   "cell_type": "markdown",
   "metadata": {},
   "source": [
    "Vetor resultante one-hot. Predição pelo maior valor de discriminante\n",
    "\n",
    "0 = Iris-setosa; 1 = Iris-versicolor; 2 = Iris-virginica"
   ]
  },
  {
   "cell_type": "code",
   "execution_count": 41,
   "metadata": {},
   "outputs": [
    {
     "data": {
      "text/plain": [
       "'Iris-virginica'"
      ]
     },
     "execution_count": 41,
     "metadata": {},
     "output_type": "execute_result"
    }
   ],
   "source": [
    "y[0]"
   ]
  },
  {
   "cell_type": "code",
   "execution_count": 40,
   "metadata": {},
   "outputs": [
    {
     "data": {
      "text/plain": [
       "2"
      ]
     },
     "execution_count": 40,
     "metadata": {},
     "output_type": "execute_result"
    }
   ],
   "source": [
    "np.argmax(y_pred[0])"
   ]
  }
 ],
 "metadata": {
  "kernelspec": {
   "display_name": "Python 3",
   "language": "python",
   "name": "python3"
  },
  "language_info": {
   "codemirror_mode": {
    "name": "ipython",
    "version": 3
   },
   "file_extension": ".py",
   "mimetype": "text/x-python",
   "name": "python",
   "nbconvert_exporter": "python",
   "pygments_lexer": "ipython3",
   "version": "3.6.6rc1"
  }
 },
 "nbformat": 4,
 "nbformat_minor": 2
}
